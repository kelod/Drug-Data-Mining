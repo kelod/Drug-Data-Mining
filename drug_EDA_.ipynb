{
 "cells": [
  {
   "cell_type": "code",
   "execution_count": 1,
   "metadata": {},
   "outputs": [],
   "source": [
    "import pandas as pd\n",
    "import numpy as np"
   ]
  },
  {
   "cell_type": "code",
   "execution_count": 2,
   "metadata": {},
   "outputs": [
    {
     "data": {
      "text/html": [
       "<div>\n",
       "<style scoped>\n",
       "    .dataframe tbody tr th:only-of-type {\n",
       "        vertical-align: middle;\n",
       "    }\n",
       "\n",
       "    .dataframe tbody tr th {\n",
       "        vertical-align: top;\n",
       "    }\n",
       "\n",
       "    .dataframe thead th {\n",
       "        text-align: right;\n",
       "    }\n",
       "</style>\n",
       "<table border=\"1\" class=\"dataframe\">\n",
       "  <thead>\n",
       "    <tr style=\"text-align: right;\">\n",
       "      <th></th>\n",
       "      <th>gene_name</th>\n",
       "      <th>interaction_types</th>\n",
       "      <th>drug_claim_primary_name</th>\n",
       "      <th>interaction_group_score</th>\n",
       "      <th>TARGET_NAME</th>\n",
       "      <th>TARGET_CLASS</th>\n",
       "      <th>ACT_VALUE</th>\n",
       "      <th>drug_approved</th>\n",
       "      <th>drug_avr_mass</th>\n",
       "      <th>drug_predicted_logp</th>\n",
       "      <th>...</th>\n",
       "      <th>drug_nr_carriers</th>\n",
       "      <th>drug_nr_transporters</th>\n",
       "      <th>POLAR_SURFACE_AREA</th>\n",
       "      <th>ROTATABLE_BOND_COUNT</th>\n",
       "      <th>HYDROGEN_BOND_DONORS</th>\n",
       "      <th>HYDROGEN_BOND_ACCEPTORS</th>\n",
       "      <th>RING_COUNT</th>\n",
       "      <th>ATOM_COUNT</th>\n",
       "      <th>FORMAL_CHARGE</th>\n",
       "      <th>CHIRAL_CENTER_COUNT</th>\n",
       "    </tr>\n",
       "  </thead>\n",
       "  <tbody>\n",
       "    <tr>\n",
       "      <th>0</th>\n",
       "      <td>OPRK1</td>\n",
       "      <td>agonist</td>\n",
       "      <td>hydromorphone</td>\n",
       "      <td>0.71</td>\n",
       "      <td>Kappa-type opioid receptor</td>\n",
       "      <td>GPCR</td>\n",
       "      <td>8.55</td>\n",
       "      <td>True</td>\n",
       "      <td>285.3377</td>\n",
       "      <td>1.622750</td>\n",
       "      <td>...</td>\n",
       "      <td>1</td>\n",
       "      <td>0</td>\n",
       "      <td>49.77</td>\n",
       "      <td>0</td>\n",
       "      <td>1</td>\n",
       "      <td>4</td>\n",
       "      <td>5</td>\n",
       "      <td>40</td>\n",
       "      <td>0</td>\n",
       "      <td>4.0</td>\n",
       "    </tr>\n",
       "    <tr>\n",
       "      <th>1</th>\n",
       "      <td>OPRD1</td>\n",
       "      <td>agonist</td>\n",
       "      <td>hydromorphone</td>\n",
       "      <td>1.51</td>\n",
       "      <td>Delta-type opioid receptor</td>\n",
       "      <td>GPCR</td>\n",
       "      <td>7.42</td>\n",
       "      <td>True</td>\n",
       "      <td>285.3377</td>\n",
       "      <td>1.622750</td>\n",
       "      <td>...</td>\n",
       "      <td>1</td>\n",
       "      <td>0</td>\n",
       "      <td>49.77</td>\n",
       "      <td>0</td>\n",
       "      <td>1</td>\n",
       "      <td>4</td>\n",
       "      <td>5</td>\n",
       "      <td>40</td>\n",
       "      <td>0</td>\n",
       "      <td>4.0</td>\n",
       "    </tr>\n",
       "    <tr>\n",
       "      <th>2</th>\n",
       "      <td>ADRB3</td>\n",
       "      <td>antagonist</td>\n",
       "      <td>alprenolol</td>\n",
       "      <td>0.55</td>\n",
       "      <td>Beta-3 adrenergic receptor</td>\n",
       "      <td>GPCR</td>\n",
       "      <td>6.86</td>\n",
       "      <td>False</td>\n",
       "      <td>249.3486</td>\n",
       "      <td>2.692790</td>\n",
       "      <td>...</td>\n",
       "      <td>0</td>\n",
       "      <td>0</td>\n",
       "      <td>41.49</td>\n",
       "      <td>8</td>\n",
       "      <td>2</td>\n",
       "      <td>3</td>\n",
       "      <td>1</td>\n",
       "      <td>41</td>\n",
       "      <td>0</td>\n",
       "      <td>1.0</td>\n",
       "    </tr>\n",
       "    <tr>\n",
       "      <th>3</th>\n",
       "      <td>ADRA1B</td>\n",
       "      <td>antagonist</td>\n",
       "      <td>prazosin</td>\n",
       "      <td>0.43</td>\n",
       "      <td>Alpha-1B adrenergic receptor</td>\n",
       "      <td>GPCR</td>\n",
       "      <td>9.08</td>\n",
       "      <td>True</td>\n",
       "      <td>383.4011</td>\n",
       "      <td>1.650516</td>\n",
       "      <td>...</td>\n",
       "      <td>1</td>\n",
       "      <td>4</td>\n",
       "      <td>106.95</td>\n",
       "      <td>4</td>\n",
       "      <td>1</td>\n",
       "      <td>8</td>\n",
       "      <td>4</td>\n",
       "      <td>49</td>\n",
       "      <td>0</td>\n",
       "      <td>0.0</td>\n",
       "    </tr>\n",
       "    <tr>\n",
       "      <th>4</th>\n",
       "      <td>ADRA2B</td>\n",
       "      <td>antagonist</td>\n",
       "      <td>prazosin</td>\n",
       "      <td>0.33</td>\n",
       "      <td>Alpha-2B adrenergic receptor</td>\n",
       "      <td>GPCR</td>\n",
       "      <td>7.89</td>\n",
       "      <td>True</td>\n",
       "      <td>383.4011</td>\n",
       "      <td>1.650516</td>\n",
       "      <td>...</td>\n",
       "      <td>1</td>\n",
       "      <td>4</td>\n",
       "      <td>106.95</td>\n",
       "      <td>4</td>\n",
       "      <td>1</td>\n",
       "      <td>8</td>\n",
       "      <td>4</td>\n",
       "      <td>49</td>\n",
       "      <td>0</td>\n",
       "      <td>0.0</td>\n",
       "    </tr>\n",
       "    <tr>\n",
       "      <th>...</th>\n",
       "      <td>...</td>\n",
       "      <td>...</td>\n",
       "      <td>...</td>\n",
       "      <td>...</td>\n",
       "      <td>...</td>\n",
       "      <td>...</td>\n",
       "      <td>...</td>\n",
       "      <td>...</td>\n",
       "      <td>...</td>\n",
       "      <td>...</td>\n",
       "      <td>...</td>\n",
       "      <td>...</td>\n",
       "      <td>...</td>\n",
       "      <td>...</td>\n",
       "      <td>...</td>\n",
       "      <td>...</td>\n",
       "      <td>...</td>\n",
       "      <td>...</td>\n",
       "      <td>...</td>\n",
       "      <td>...</td>\n",
       "      <td>...</td>\n",
       "    </tr>\n",
       "    <tr>\n",
       "      <th>2416</th>\n",
       "      <td>PGR</td>\n",
       "      <td>agonist</td>\n",
       "      <td>norethynodrel</td>\n",
       "      <td>0.20</td>\n",
       "      <td>Progesterone receptor</td>\n",
       "      <td>Nuclear hormone receptor</td>\n",
       "      <td>NaN</td>\n",
       "      <td>True</td>\n",
       "      <td>298.4260</td>\n",
       "      <td>2.813825</td>\n",
       "      <td>...</td>\n",
       "      <td>0</td>\n",
       "      <td>0</td>\n",
       "      <td>37.30</td>\n",
       "      <td>0</td>\n",
       "      <td>1</td>\n",
       "      <td>2</td>\n",
       "      <td>4</td>\n",
       "      <td>48</td>\n",
       "      <td>0</td>\n",
       "      <td>5.0</td>\n",
       "    </tr>\n",
       "    <tr>\n",
       "      <th>2417</th>\n",
       "      <td>ADRB2</td>\n",
       "      <td>agonist</td>\n",
       "      <td>protokylol</td>\n",
       "      <td>0.69</td>\n",
       "      <td>Beta-2 adrenergic receptor</td>\n",
       "      <td>GPCR</td>\n",
       "      <td>NaN</td>\n",
       "      <td>True</td>\n",
       "      <td>331.3680</td>\n",
       "      <td>1.481601</td>\n",
       "      <td>...</td>\n",
       "      <td>0</td>\n",
       "      <td>0</td>\n",
       "      <td>91.18</td>\n",
       "      <td>6</td>\n",
       "      <td>4</td>\n",
       "      <td>6</td>\n",
       "      <td>3</td>\n",
       "      <td>45</td>\n",
       "      <td>0</td>\n",
       "      <td>2.0</td>\n",
       "    </tr>\n",
       "    <tr>\n",
       "      <th>2418</th>\n",
       "      <td>CPT1A</td>\n",
       "      <td>activator</td>\n",
       "      <td>levocarnitine</td>\n",
       "      <td>12.05</td>\n",
       "      <td>Carnitine O-palmitoyltransferase 1, liver isoform</td>\n",
       "      <td>Enzyme</td>\n",
       "      <td>NaN</td>\n",
       "      <td>True</td>\n",
       "      <td>161.1989</td>\n",
       "      <td>-4.887506</td>\n",
       "      <td>...</td>\n",
       "      <td>0</td>\n",
       "      <td>5</td>\n",
       "      <td>60.36</td>\n",
       "      <td>4</td>\n",
       "      <td>1</td>\n",
       "      <td>3</td>\n",
       "      <td>0</td>\n",
       "      <td>26</td>\n",
       "      <td>0</td>\n",
       "      <td>1.0</td>\n",
       "    </tr>\n",
       "    <tr>\n",
       "      <th>2419</th>\n",
       "      <td>ALOX5</td>\n",
       "      <td>inhibitor</td>\n",
       "      <td>masoprocol</td>\n",
       "      <td>3.49</td>\n",
       "      <td>Arachidonate 5-lipoxygenase</td>\n",
       "      <td>Enzyme</td>\n",
       "      <td>7.60</td>\n",
       "      <td>True</td>\n",
       "      <td>302.3649</td>\n",
       "      <td>4.758523</td>\n",
       "      <td>...</td>\n",
       "      <td>0</td>\n",
       "      <td>0</td>\n",
       "      <td>80.92</td>\n",
       "      <td>5</td>\n",
       "      <td>4</td>\n",
       "      <td>4</td>\n",
       "      <td>2</td>\n",
       "      <td>44</td>\n",
       "      <td>0</td>\n",
       "      <td>2.0</td>\n",
       "    </tr>\n",
       "    <tr>\n",
       "      <th>2420</th>\n",
       "      <td>SIGMAR1</td>\n",
       "      <td>agonist</td>\n",
       "      <td>pentoxyverine</td>\n",
       "      <td>0.74</td>\n",
       "      <td>Sigma non-opioid intracellular receptor 1</td>\n",
       "      <td>Membrane receptor</td>\n",
       "      <td>7.71</td>\n",
       "      <td>True</td>\n",
       "      <td>333.4720</td>\n",
       "      <td>3.966585</td>\n",
       "      <td>...</td>\n",
       "      <td>0</td>\n",
       "      <td>0</td>\n",
       "      <td>38.77</td>\n",
       "      <td>10</td>\n",
       "      <td>0</td>\n",
       "      <td>4</td>\n",
       "      <td>2</td>\n",
       "      <td>55</td>\n",
       "      <td>0</td>\n",
       "      <td>0.0</td>\n",
       "    </tr>\n",
       "  </tbody>\n",
       "</table>\n",
       "<p>2421 rows × 23 columns</p>\n",
       "</div>"
      ],
      "text/plain": [
       "     gene_name interaction_types drug_claim_primary_name  \\\n",
       "0        OPRK1           agonist           hydromorphone   \n",
       "1        OPRD1           agonist           hydromorphone   \n",
       "2        ADRB3        antagonist              alprenolol   \n",
       "3       ADRA1B        antagonist                prazosin   \n",
       "4       ADRA2B        antagonist                prazosin   \n",
       "...        ...               ...                     ...   \n",
       "2416       PGR           agonist           norethynodrel   \n",
       "2417     ADRB2           agonist              protokylol   \n",
       "2418     CPT1A         activator           levocarnitine   \n",
       "2419     ALOX5         inhibitor              masoprocol   \n",
       "2420   SIGMAR1           agonist           pentoxyverine   \n",
       "\n",
       "      interaction_group_score  \\\n",
       "0                        0.71   \n",
       "1                        1.51   \n",
       "2                        0.55   \n",
       "3                        0.43   \n",
       "4                        0.33   \n",
       "...                       ...   \n",
       "2416                     0.20   \n",
       "2417                     0.69   \n",
       "2418                    12.05   \n",
       "2419                     3.49   \n",
       "2420                     0.74   \n",
       "\n",
       "                                            TARGET_NAME  \\\n",
       "0                            Kappa-type opioid receptor   \n",
       "1                            Delta-type opioid receptor   \n",
       "2                            Beta-3 adrenergic receptor   \n",
       "3                          Alpha-1B adrenergic receptor   \n",
       "4                          Alpha-2B adrenergic receptor   \n",
       "...                                                 ...   \n",
       "2416                              Progesterone receptor   \n",
       "2417                         Beta-2 adrenergic receptor   \n",
       "2418  Carnitine O-palmitoyltransferase 1, liver isoform   \n",
       "2419                        Arachidonate 5-lipoxygenase   \n",
       "2420          Sigma non-opioid intracellular receptor 1   \n",
       "\n",
       "                  TARGET_CLASS  ACT_VALUE  drug_approved  drug_avr_mass  \\\n",
       "0                         GPCR       8.55           True       285.3377   \n",
       "1                         GPCR       7.42           True       285.3377   \n",
       "2                         GPCR       6.86          False       249.3486   \n",
       "3                         GPCR       9.08           True       383.4011   \n",
       "4                         GPCR       7.89           True       383.4011   \n",
       "...                        ...        ...            ...            ...   \n",
       "2416  Nuclear hormone receptor        NaN           True       298.4260   \n",
       "2417                      GPCR        NaN           True       331.3680   \n",
       "2418                    Enzyme        NaN           True       161.1989   \n",
       "2419                    Enzyme       7.60           True       302.3649   \n",
       "2420         Membrane receptor       7.71           True       333.4720   \n",
       "\n",
       "      drug_predicted_logp  ...  drug_nr_carriers  drug_nr_transporters  \\\n",
       "0                1.622750  ...                 1                     0   \n",
       "1                1.622750  ...                 1                     0   \n",
       "2                2.692790  ...                 0                     0   \n",
       "3                1.650516  ...                 1                     4   \n",
       "4                1.650516  ...                 1                     4   \n",
       "...                   ...  ...               ...                   ...   \n",
       "2416             2.813825  ...                 0                     0   \n",
       "2417             1.481601  ...                 0                     0   \n",
       "2418            -4.887506  ...                 0                     5   \n",
       "2419             4.758523  ...                 0                     0   \n",
       "2420             3.966585  ...                 0                     0   \n",
       "\n",
       "      POLAR_SURFACE_AREA  ROTATABLE_BOND_COUNT  HYDROGEN_BOND_DONORS  \\\n",
       "0                  49.77                     0                     1   \n",
       "1                  49.77                     0                     1   \n",
       "2                  41.49                     8                     2   \n",
       "3                 106.95                     4                     1   \n",
       "4                 106.95                     4                     1   \n",
       "...                  ...                   ...                   ...   \n",
       "2416               37.30                     0                     1   \n",
       "2417               91.18                     6                     4   \n",
       "2418               60.36                     4                     1   \n",
       "2419               80.92                     5                     4   \n",
       "2420               38.77                    10                     0   \n",
       "\n",
       "      HYDROGEN_BOND_ACCEPTORS  RING_COUNT  ATOM_COUNT  FORMAL_CHARGE  \\\n",
       "0                           4           5          40              0   \n",
       "1                           4           5          40              0   \n",
       "2                           3           1          41              0   \n",
       "3                           8           4          49              0   \n",
       "4                           8           4          49              0   \n",
       "...                       ...         ...         ...            ...   \n",
       "2416                        2           4          48              0   \n",
       "2417                        6           3          45              0   \n",
       "2418                        3           0          26              0   \n",
       "2419                        4           2          44              0   \n",
       "2420                        4           2          55              0   \n",
       "\n",
       "      CHIRAL_CENTER_COUNT  \n",
       "0                     4.0  \n",
       "1                     4.0  \n",
       "2                     1.0  \n",
       "3                     0.0  \n",
       "4                     0.0  \n",
       "...                   ...  \n",
       "2416                  5.0  \n",
       "2417                  2.0  \n",
       "2418                  1.0  \n",
       "2419                  2.0  \n",
       "2420                  0.0  \n",
       "\n",
       "[2421 rows x 23 columns]"
      ]
     },
     "execution_count": 2,
     "metadata": {},
     "output_type": "execute_result"
    }
   ],
   "source": [
    "SOURCE_PATH = \"C:/Elod/MSc_Onlab/drug_dataset.csv\"\n",
    "df = pd.read_csv(SOURCE_PATH)\n",
    "df"
   ]
  },
  {
   "cell_type": "code",
   "execution_count": 3,
   "metadata": {},
   "outputs": [
    {
     "name": "stdout",
     "output_type": "stream",
     "text": [
      "<class 'pandas.core.frame.DataFrame'>\n",
      "RangeIndex: 2421 entries, 0 to 2420\n",
      "Data columns (total 23 columns):\n",
      " #   Column                   Non-Null Count  Dtype  \n",
      "---  ------                   --------------  -----  \n",
      " 0   gene_name                2394 non-null   object \n",
      " 1   interaction_types        2421 non-null   object \n",
      " 2   drug_claim_primary_name  2421 non-null   object \n",
      " 3   interaction_group_score  2342 non-null   float64\n",
      " 4   TARGET_NAME              2421 non-null   object \n",
      " 5   TARGET_CLASS             2421 non-null   object \n",
      " 6   ACT_VALUE                2177 non-null   float64\n",
      " 7   drug_approved            2421 non-null   bool   \n",
      " 8   drug_avr_mass            2419 non-null   float64\n",
      " 9   drug_predicted_logp      2410 non-null   float64\n",
      " 10  drug_rule_of_five        2421 non-null   bool   \n",
      " 11  drug_nr_targets          2421 non-null   int64  \n",
      " 12  drug_nr_enzymes          2421 non-null   int64  \n",
      " 13  drug_nr_carriers         2421 non-null   int64  \n",
      " 14  drug_nr_transporters     2421 non-null   int64  \n",
      " 15  POLAR_SURFACE_AREA       2421 non-null   float64\n",
      " 16  ROTATABLE_BOND_COUNT     2421 non-null   int64  \n",
      " 17  HYDROGEN_BOND_DONORS     2421 non-null   int64  \n",
      " 18  HYDROGEN_BOND_ACCEPTORS  2421 non-null   int64  \n",
      " 19  RING_COUNT               2421 non-null   int64  \n",
      " 20  ATOM_COUNT               2421 non-null   int64  \n",
      " 21  FORMAL_CHARGE            2421 non-null   int64  \n",
      " 22  CHIRAL_CENTER_COUNT      2421 non-null   float64\n",
      "dtypes: bool(2), float64(6), int64(10), object(5)\n",
      "memory usage: 354.7+ KB\n"
     ]
    }
   ],
   "source": [
    "df.info()"
   ]
  },
  {
   "cell_type": "markdown",
   "metadata": {},
   "source": [
    "Oszlopok a típusaikkal, illetve, hogy hány érték szerepel az adott oszlopban."
   ]
  },
  {
   "cell_type": "code",
   "execution_count": 4,
   "metadata": {},
   "outputs": [
    {
     "data": {
      "text/html": [
       "<div>\n",
       "<style scoped>\n",
       "    .dataframe tbody tr th:only-of-type {\n",
       "        vertical-align: middle;\n",
       "    }\n",
       "\n",
       "    .dataframe tbody tr th {\n",
       "        vertical-align: top;\n",
       "    }\n",
       "\n",
       "    .dataframe thead th {\n",
       "        text-align: right;\n",
       "    }\n",
       "</style>\n",
       "<table border=\"1\" class=\"dataframe\">\n",
       "  <thead>\n",
       "    <tr style=\"text-align: right;\">\n",
       "      <th></th>\n",
       "      <th>interaction_group_score</th>\n",
       "      <th>ACT_VALUE</th>\n",
       "      <th>drug_avr_mass</th>\n",
       "      <th>drug_predicted_logp</th>\n",
       "      <th>drug_nr_targets</th>\n",
       "      <th>drug_nr_enzymes</th>\n",
       "      <th>drug_nr_carriers</th>\n",
       "      <th>drug_nr_transporters</th>\n",
       "      <th>POLAR_SURFACE_AREA</th>\n",
       "      <th>ROTATABLE_BOND_COUNT</th>\n",
       "      <th>HYDROGEN_BOND_DONORS</th>\n",
       "      <th>HYDROGEN_BOND_ACCEPTORS</th>\n",
       "      <th>RING_COUNT</th>\n",
       "      <th>ATOM_COUNT</th>\n",
       "      <th>FORMAL_CHARGE</th>\n",
       "      <th>CHIRAL_CENTER_COUNT</th>\n",
       "    </tr>\n",
       "  </thead>\n",
       "  <tbody>\n",
       "    <tr>\n",
       "      <th>count</th>\n",
       "      <td>2342.000000</td>\n",
       "      <td>2177.000000</td>\n",
       "      <td>2419.000000</td>\n",
       "      <td>2410.000000</td>\n",
       "      <td>2421.000000</td>\n",
       "      <td>2421.000000</td>\n",
       "      <td>2421.000000</td>\n",
       "      <td>2421.000000</td>\n",
       "      <td>2421.000000</td>\n",
       "      <td>2421.000000</td>\n",
       "      <td>2421.00000</td>\n",
       "      <td>2421.000000</td>\n",
       "      <td>2421.000000</td>\n",
       "      <td>2421.000000</td>\n",
       "      <td>2421.000000</td>\n",
       "      <td>2421.000000</td>\n",
       "    </tr>\n",
       "    <tr>\n",
       "      <th>mean</th>\n",
       "      <td>1.767340</td>\n",
       "      <td>7.192664</td>\n",
       "      <td>389.598176</td>\n",
       "      <td>2.768982</td>\n",
       "      <td>8.111111</td>\n",
       "      <td>3.105328</td>\n",
       "      <td>0.436183</td>\n",
       "      <td>1.352747</td>\n",
       "      <td>76.082454</td>\n",
       "      <td>5.552664</td>\n",
       "      <td>1.86741</td>\n",
       "      <td>4.749690</td>\n",
       "      <td>3.368856</td>\n",
       "      <td>52.790169</td>\n",
       "      <td>0.026435</td>\n",
       "      <td>1.684841</td>\n",
       "    </tr>\n",
       "    <tr>\n",
       "      <th>std</th>\n",
       "      <td>10.612221</td>\n",
       "      <td>1.463173</td>\n",
       "      <td>283.746781</td>\n",
       "      <td>2.420060</td>\n",
       "      <td>8.561279</td>\n",
       "      <td>3.447969</td>\n",
       "      <td>0.764229</td>\n",
       "      <td>2.330072</td>\n",
       "      <td>120.572539</td>\n",
       "      <td>9.208479</td>\n",
       "      <td>4.05104</td>\n",
       "      <td>4.280086</td>\n",
       "      <td>1.581349</td>\n",
       "      <td>38.385299</td>\n",
       "      <td>0.184422</td>\n",
       "      <td>3.266568</td>\n",
       "    </tr>\n",
       "    <tr>\n",
       "      <th>min</th>\n",
       "      <td>0.000000</td>\n",
       "      <td>2.221800</td>\n",
       "      <td>46.068400</td>\n",
       "      <td>-33.103356</td>\n",
       "      <td>0.000000</td>\n",
       "      <td>0.000000</td>\n",
       "      <td>0.000000</td>\n",
       "      <td>0.000000</td>\n",
       "      <td>0.000000</td>\n",
       "      <td>0.000000</td>\n",
       "      <td>0.00000</td>\n",
       "      <td>0.000000</td>\n",
       "      <td>0.000000</td>\n",
       "      <td>8.000000</td>\n",
       "      <td>0.000000</td>\n",
       "      <td>0.000000</td>\n",
       "    </tr>\n",
       "    <tr>\n",
       "      <th>25%</th>\n",
       "      <td>0.070000</td>\n",
       "      <td>6.154900</td>\n",
       "      <td>281.352300</td>\n",
       "      <td>1.778753</td>\n",
       "      <td>2.000000</td>\n",
       "      <td>1.000000</td>\n",
       "      <td>0.000000</td>\n",
       "      <td>0.000000</td>\n",
       "      <td>36.260000</td>\n",
       "      <td>3.000000</td>\n",
       "      <td>1.00000</td>\n",
       "      <td>3.000000</td>\n",
       "      <td>2.000000</td>\n",
       "      <td>40.000000</td>\n",
       "      <td>0.000000</td>\n",
       "      <td>0.000000</td>\n",
       "    </tr>\n",
       "    <tr>\n",
       "      <th>50%</th>\n",
       "      <td>0.220000</td>\n",
       "      <td>7.250914</td>\n",
       "      <td>344.404900</td>\n",
       "      <td>3.221353</td>\n",
       "      <td>5.000000</td>\n",
       "      <td>2.000000</td>\n",
       "      <td>0.000000</td>\n",
       "      <td>1.000000</td>\n",
       "      <td>58.100000</td>\n",
       "      <td>4.000000</td>\n",
       "      <td>1.00000</td>\n",
       "      <td>4.000000</td>\n",
       "      <td>3.000000</td>\n",
       "      <td>48.000000</td>\n",
       "      <td>0.000000</td>\n",
       "      <td>0.000000</td>\n",
       "    </tr>\n",
       "    <tr>\n",
       "      <th>75%</th>\n",
       "      <td>0.790000</td>\n",
       "      <td>8.292430</td>\n",
       "      <td>428.562200</td>\n",
       "      <td>4.197729</td>\n",
       "      <td>11.000000</td>\n",
       "      <td>5.000000</td>\n",
       "      <td>1.000000</td>\n",
       "      <td>2.000000</td>\n",
       "      <td>88.910000</td>\n",
       "      <td>7.000000</td>\n",
       "      <td>2.00000</td>\n",
       "      <td>6.000000</td>\n",
       "      <td>4.000000</td>\n",
       "      <td>57.000000</td>\n",
       "      <td>0.000000</td>\n",
       "      <td>2.000000</td>\n",
       "    </tr>\n",
       "    <tr>\n",
       "      <th>max</th>\n",
       "      <td>312.430000</td>\n",
       "      <td>12.795900</td>\n",
       "      <td>4858.560000</td>\n",
       "      <td>10.569524</td>\n",
       "      <td>62.000000</td>\n",
       "      <td>23.000000</td>\n",
       "      <td>6.000000</td>\n",
       "      <td>22.000000</td>\n",
       "      <td>2062.660000</td>\n",
       "      <td>184.000000</td>\n",
       "      <td>69.00000</td>\n",
       "      <td>71.000000</td>\n",
       "      <td>12.000000</td>\n",
       "      <td>689.000000</td>\n",
       "      <td>2.000000</td>\n",
       "      <td>42.000000</td>\n",
       "    </tr>\n",
       "  </tbody>\n",
       "</table>\n",
       "</div>"
      ],
      "text/plain": [
       "       interaction_group_score    ACT_VALUE  drug_avr_mass  \\\n",
       "count              2342.000000  2177.000000    2419.000000   \n",
       "mean                  1.767340     7.192664     389.598176   \n",
       "std                  10.612221     1.463173     283.746781   \n",
       "min                   0.000000     2.221800      46.068400   \n",
       "25%                   0.070000     6.154900     281.352300   \n",
       "50%                   0.220000     7.250914     344.404900   \n",
       "75%                   0.790000     8.292430     428.562200   \n",
       "max                 312.430000    12.795900    4858.560000   \n",
       "\n",
       "       drug_predicted_logp  drug_nr_targets  drug_nr_enzymes  \\\n",
       "count          2410.000000      2421.000000      2421.000000   \n",
       "mean              2.768982         8.111111         3.105328   \n",
       "std               2.420060         8.561279         3.447969   \n",
       "min             -33.103356         0.000000         0.000000   \n",
       "25%               1.778753         2.000000         1.000000   \n",
       "50%               3.221353         5.000000         2.000000   \n",
       "75%               4.197729        11.000000         5.000000   \n",
       "max              10.569524        62.000000        23.000000   \n",
       "\n",
       "       drug_nr_carriers  drug_nr_transporters  POLAR_SURFACE_AREA  \\\n",
       "count       2421.000000           2421.000000         2421.000000   \n",
       "mean           0.436183              1.352747           76.082454   \n",
       "std            0.764229              2.330072          120.572539   \n",
       "min            0.000000              0.000000            0.000000   \n",
       "25%            0.000000              0.000000           36.260000   \n",
       "50%            0.000000              1.000000           58.100000   \n",
       "75%            1.000000              2.000000           88.910000   \n",
       "max            6.000000             22.000000         2062.660000   \n",
       "\n",
       "       ROTATABLE_BOND_COUNT  HYDROGEN_BOND_DONORS  HYDROGEN_BOND_ACCEPTORS  \\\n",
       "count           2421.000000            2421.00000              2421.000000   \n",
       "mean               5.552664               1.86741                 4.749690   \n",
       "std                9.208479               4.05104                 4.280086   \n",
       "min                0.000000               0.00000                 0.000000   \n",
       "25%                3.000000               1.00000                 3.000000   \n",
       "50%                4.000000               1.00000                 4.000000   \n",
       "75%                7.000000               2.00000                 6.000000   \n",
       "max              184.000000              69.00000                71.000000   \n",
       "\n",
       "        RING_COUNT   ATOM_COUNT  FORMAL_CHARGE  CHIRAL_CENTER_COUNT  \n",
       "count  2421.000000  2421.000000    2421.000000          2421.000000  \n",
       "mean      3.368856    52.790169       0.026435             1.684841  \n",
       "std       1.581349    38.385299       0.184422             3.266568  \n",
       "min       0.000000     8.000000       0.000000             0.000000  \n",
       "25%       2.000000    40.000000       0.000000             0.000000  \n",
       "50%       3.000000    48.000000       0.000000             0.000000  \n",
       "75%       4.000000    57.000000       0.000000             2.000000  \n",
       "max      12.000000   689.000000       2.000000            42.000000  "
      ]
     },
     "execution_count": 4,
     "metadata": {},
     "output_type": "execute_result"
    }
   ],
   "source": [
    "df.describe()"
   ]
  },
  {
   "cell_type": "markdown",
   "metadata": {},
   "source": [
    "interaction_group_score oszlop:\n",
    "\n",
    "    Az átlag 2 körül van, de valószínűleg a hatalmas outlier(ek) miatt. Erre abból lehet következtetni, hogy max érték 340 ami jóval nagyobb, mint az átlag, illetve a 75%-os percentilis 0.96, ami azt jelenti, hogy az egyedek 75%-a (3/4-e) kisebb, mint 0.96, azaz még valószínűbb, hogy a 340-es max érték egy outlier lehet. Ehhez vizsgáljuk meg részletesebben az adott oszlopot."
   ]
  },
  {
   "cell_type": "code",
   "execution_count": 5,
   "metadata": {},
   "outputs": [
    {
     "data": {
      "text/plain": [
       "<AxesSubplot:>"
      ]
     },
     "execution_count": 5,
     "metadata": {},
     "output_type": "execute_result"
    },
    {
     "data": {
      "image/png": "[encoded data removed]",
      "text/plain": [
       "<Figure size 1440x1080 with 1 Axes>"
      ]
     },
     "metadata": {
      "needs_background": "light"
     },
     "output_type": "display_data"
    }
   ],
   "source": [
    "import matplotlib.pyplot as plt\n",
    "%matplotlib inline\n",
    "df['interaction_group_score'].hist(bins=50, figsize=(20,15))"
   ]
  },
  {
   "cell_type": "markdown",
   "metadata": {},
   "source": [
    "Ebből is az látszik, hogy 0-10 körül van a legtöbb érték, a többi nagyon egyelőtlenül oszlik el."
   ]
  },
  {
   "cell_type": "code",
   "execution_count": 6,
   "metadata": {},
   "outputs": [
    {
     "data": {
      "text/plain": [
       "<AxesSubplot:>"
      ]
     },
     "execution_count": 6,
     "metadata": {},
     "output_type": "execute_result"
    },
    {
     "data": {
      "image/png": "[encoded data removed]",
      "text/plain": [
       "<Figure size 432x288 with 1 Axes>"
      ]
     },
     "metadata": {
      "needs_background": "light"
     },
     "output_type": "display_data"
    }
   ],
   "source": [
    "df.boxplot(column=['interaction_group_score'], return_type='axes')"
   ]
  },
  {
   "cell_type": "markdown",
   "metadata": {},
   "source": [
    "És a következő meggyőző ábra, amiből látszik, hogy ebben az oszlopban, szerepelnek outlierek, amiket érdemes lehet kiszűrni.\n",
    "Ebben az oszlopban tehát az outlierek szűrése után a hiányzó értékeket lehetne az átlaggal helyettesíteni, mert elég sűrűn helyezkednek el az értékek."
   ]
  },
  {
   "cell_type": "code",
   "execution_count": 7,
   "metadata": {},
   "outputs": [
    {
     "data": {
      "text/html": [
       "<div>\n",
       "<style scoped>\n",
       "    .dataframe tbody tr th:only-of-type {\n",
       "        vertical-align: middle;\n",
       "    }\n",
       "\n",
       "    .dataframe tbody tr th {\n",
       "        vertical-align: top;\n",
       "    }\n",
       "\n",
       "    .dataframe thead th {\n",
       "        text-align: right;\n",
       "    }\n",
       "</style>\n",
       "<table border=\"1\" class=\"dataframe\">\n",
       "  <thead>\n",
       "    <tr style=\"text-align: right;\">\n",
       "      <th></th>\n",
       "      <th>interaction_group_score</th>\n",
       "      <th>ACT_VALUE</th>\n",
       "      <th>drug_avr_mass</th>\n",
       "      <th>drug_predicted_logp</th>\n",
       "      <th>drug_nr_targets</th>\n",
       "      <th>drug_nr_enzymes</th>\n",
       "      <th>drug_nr_carriers</th>\n",
       "      <th>drug_nr_transporters</th>\n",
       "      <th>POLAR_SURFACE_AREA</th>\n",
       "      <th>ROTATABLE_BOND_COUNT</th>\n",
       "      <th>HYDROGEN_BOND_DONORS</th>\n",
       "      <th>HYDROGEN_BOND_ACCEPTORS</th>\n",
       "      <th>RING_COUNT</th>\n",
       "      <th>ATOM_COUNT</th>\n",
       "      <th>FORMAL_CHARGE</th>\n",
       "      <th>CHIRAL_CENTER_COUNT</th>\n",
       "    </tr>\n",
       "  </thead>\n",
       "  <tbody>\n",
       "    <tr>\n",
       "      <th>count</th>\n",
       "      <td>2342.000000</td>\n",
       "      <td>2177.000000</td>\n",
       "      <td>2419.000000</td>\n",
       "      <td>2410.000000</td>\n",
       "      <td>2421.000000</td>\n",
       "      <td>2421.000000</td>\n",
       "      <td>2421.000000</td>\n",
       "      <td>2421.000000</td>\n",
       "      <td>2421.000000</td>\n",
       "      <td>2421.000000</td>\n",
       "      <td>2421.00000</td>\n",
       "      <td>2421.000000</td>\n",
       "      <td>2421.000000</td>\n",
       "      <td>2421.000000</td>\n",
       "      <td>2421.000000</td>\n",
       "      <td>2421.000000</td>\n",
       "    </tr>\n",
       "    <tr>\n",
       "      <th>mean</th>\n",
       "      <td>1.767340</td>\n",
       "      <td>7.192664</td>\n",
       "      <td>389.598176</td>\n",
       "      <td>2.768982</td>\n",
       "      <td>8.111111</td>\n",
       "      <td>3.105328</td>\n",
       "      <td>0.436183</td>\n",
       "      <td>1.352747</td>\n",
       "      <td>76.082454</td>\n",
       "      <td>5.552664</td>\n",
       "      <td>1.86741</td>\n",
       "      <td>4.749690</td>\n",
       "      <td>3.368856</td>\n",
       "      <td>52.790169</td>\n",
       "      <td>0.026435</td>\n",
       "      <td>1.684841</td>\n",
       "    </tr>\n",
       "    <tr>\n",
       "      <th>std</th>\n",
       "      <td>10.612221</td>\n",
       "      <td>1.463173</td>\n",
       "      <td>283.746781</td>\n",
       "      <td>2.420060</td>\n",
       "      <td>8.561279</td>\n",
       "      <td>3.447969</td>\n",
       "      <td>0.764229</td>\n",
       "      <td>2.330072</td>\n",
       "      <td>120.572539</td>\n",
       "      <td>9.208479</td>\n",
       "      <td>4.05104</td>\n",
       "      <td>4.280086</td>\n",
       "      <td>1.581349</td>\n",
       "      <td>38.385299</td>\n",
       "      <td>0.184422</td>\n",
       "      <td>3.266568</td>\n",
       "    </tr>\n",
       "    <tr>\n",
       "      <th>min</th>\n",
       "      <td>0.000000</td>\n",
       "      <td>2.221800</td>\n",
       "      <td>46.068400</td>\n",
       "      <td>-33.103356</td>\n",
       "      <td>0.000000</td>\n",
       "      <td>0.000000</td>\n",
       "      <td>0.000000</td>\n",
       "      <td>0.000000</td>\n",
       "      <td>0.000000</td>\n",
       "      <td>0.000000</td>\n",
       "      <td>0.00000</td>\n",
       "      <td>0.000000</td>\n",
       "      <td>0.000000</td>\n",
       "      <td>8.000000</td>\n",
       "      <td>0.000000</td>\n",
       "      <td>0.000000</td>\n",
       "    </tr>\n",
       "    <tr>\n",
       "      <th>25%</th>\n",
       "      <td>0.070000</td>\n",
       "      <td>6.154900</td>\n",
       "      <td>281.352300</td>\n",
       "      <td>1.778753</td>\n",
       "      <td>2.000000</td>\n",
       "      <td>1.000000</td>\n",
       "      <td>0.000000</td>\n",
       "      <td>0.000000</td>\n",
       "      <td>36.260000</td>\n",
       "      <td>3.000000</td>\n",
       "      <td>1.00000</td>\n",
       "      <td>3.000000</td>\n",
       "      <td>2.000000</td>\n",
       "      <td>40.000000</td>\n",
       "      <td>0.000000</td>\n",
       "      <td>0.000000</td>\n",
       "    </tr>\n",
       "    <tr>\n",
       "      <th>50%</th>\n",
       "      <td>0.220000</td>\n",
       "      <td>7.250914</td>\n",
       "      <td>344.404900</td>\n",
       "      <td>3.221353</td>\n",
       "      <td>5.000000</td>\n",
       "      <td>2.000000</td>\n",
       "      <td>0.000000</td>\n",
       "      <td>1.000000</td>\n",
       "      <td>58.100000</td>\n",
       "      <td>4.000000</td>\n",
       "      <td>1.00000</td>\n",
       "      <td>4.000000</td>\n",
       "      <td>3.000000</td>\n",
       "      <td>48.000000</td>\n",
       "      <td>0.000000</td>\n",
       "      <td>0.000000</td>\n",
       "    </tr>\n",
       "    <tr>\n",
       "      <th>75%</th>\n",
       "      <td>0.790000</td>\n",
       "      <td>8.292430</td>\n",
       "      <td>428.562200</td>\n",
       "      <td>4.197729</td>\n",
       "      <td>11.000000</td>\n",
       "      <td>5.000000</td>\n",
       "      <td>1.000000</td>\n",
       "      <td>2.000000</td>\n",
       "      <td>88.910000</td>\n",
       "      <td>7.000000</td>\n",
       "      <td>2.00000</td>\n",
       "      <td>6.000000</td>\n",
       "      <td>4.000000</td>\n",
       "      <td>57.000000</td>\n",
       "      <td>0.000000</td>\n",
       "      <td>2.000000</td>\n",
       "    </tr>\n",
       "    <tr>\n",
       "      <th>max</th>\n",
       "      <td>312.430000</td>\n",
       "      <td>12.795900</td>\n",
       "      <td>4858.560000</td>\n",
       "      <td>10.569524</td>\n",
       "      <td>62.000000</td>\n",
       "      <td>23.000000</td>\n",
       "      <td>6.000000</td>\n",
       "      <td>22.000000</td>\n",
       "      <td>2062.660000</td>\n",
       "      <td>184.000000</td>\n",
       "      <td>69.00000</td>\n",
       "      <td>71.000000</td>\n",
       "      <td>12.000000</td>\n",
       "      <td>689.000000</td>\n",
       "      <td>2.000000</td>\n",
       "      <td>42.000000</td>\n",
       "    </tr>\n",
       "  </tbody>\n",
       "</table>\n",
       "</div>"
      ],
      "text/plain": [
       "       interaction_group_score    ACT_VALUE  drug_avr_mass  \\\n",
       "count              2342.000000  2177.000000    2419.000000   \n",
       "mean                  1.767340     7.192664     389.598176   \n",
       "std                  10.612221     1.463173     283.746781   \n",
       "min                   0.000000     2.221800      46.068400   \n",
       "25%                   0.070000     6.154900     281.352300   \n",
       "50%                   0.220000     7.250914     344.404900   \n",
       "75%                   0.790000     8.292430     428.562200   \n",
       "max                 312.430000    12.795900    4858.560000   \n",
       "\n",
       "       drug_predicted_logp  drug_nr_targets  drug_nr_enzymes  \\\n",
       "count          2410.000000      2421.000000      2421.000000   \n",
       "mean              2.768982         8.111111         3.105328   \n",
       "std               2.420060         8.561279         3.447969   \n",
       "min             -33.103356         0.000000         0.000000   \n",
       "25%               1.778753         2.000000         1.000000   \n",
       "50%               3.221353         5.000000         2.000000   \n",
       "75%               4.197729        11.000000         5.000000   \n",
       "max              10.569524        62.000000        23.000000   \n",
       "\n",
       "       drug_nr_carriers  drug_nr_transporters  POLAR_SURFACE_AREA  \\\n",
       "count       2421.000000           2421.000000         2421.000000   \n",
       "mean           0.436183              1.352747           76.082454   \n",
       "std            0.764229              2.330072          120.572539   \n",
       "min            0.000000              0.000000            0.000000   \n",
       "25%            0.000000              0.000000           36.260000   \n",
       "50%            0.000000              1.000000           58.100000   \n",
       "75%            1.000000              2.000000           88.910000   \n",
       "max            6.000000             22.000000         2062.660000   \n",
       "\n",
       "       ROTATABLE_BOND_COUNT  HYDROGEN_BOND_DONORS  HYDROGEN_BOND_ACCEPTORS  \\\n",
       "count           2421.000000            2421.00000              2421.000000   \n",
       "mean               5.552664               1.86741                 4.749690   \n",
       "std                9.208479               4.05104                 4.280086   \n",
       "min                0.000000               0.00000                 0.000000   \n",
       "25%                3.000000               1.00000                 3.000000   \n",
       "50%                4.000000               1.00000                 4.000000   \n",
       "75%                7.000000               2.00000                 6.000000   \n",
       "max              184.000000              69.00000                71.000000   \n",
       "\n",
       "        RING_COUNT   ATOM_COUNT  FORMAL_CHARGE  CHIRAL_CENTER_COUNT  \n",
       "count  2421.000000  2421.000000    2421.000000          2421.000000  \n",
       "mean      3.368856    52.790169       0.026435             1.684841  \n",
       "std       1.581349    38.385299       0.184422             3.266568  \n",
       "min       0.000000     8.000000       0.000000             0.000000  \n",
       "25%       2.000000    40.000000       0.000000             0.000000  \n",
       "50%       3.000000    48.000000       0.000000             0.000000  \n",
       "75%       4.000000    57.000000       0.000000             2.000000  \n",
       "max      12.000000   689.000000       2.000000            42.000000  "
      ]
     },
     "execution_count": 7,
     "metadata": {},
     "output_type": "execute_result"
    }
   ],
   "source": [
    "df.describe()"
   ]
  },
  {
   "cell_type": "markdown",
   "metadata": {},
   "source": [
    "Az ACT_VALUE oszlop \"jól néz ki\", olyan tekintetben, hogy első ránézésre egyenletes, és kiugró értékek nélkül van jelen."
   ]
  },
  {
   "cell_type": "code",
   "execution_count": 8,
   "metadata": {},
   "outputs": [
    {
     "data": {
      "text/plain": [
       "<AxesSubplot:>"
      ]
     },
     "execution_count": 8,
     "metadata": {},
     "output_type": "execute_result"
    },
    {
     "data": {
      "image/png": "[encoded data removed]",
      "text/plain": [
       "<Figure size 432x288 with 1 Axes>"
      ]
     },
     "metadata": {
      "needs_background": "light"
     },
     "output_type": "display_data"
    }
   ],
   "source": [
    "df.boxplot(column=['ACT_VALUE'], return_type='axes')"
   ]
  },
  {
   "cell_type": "markdown",
   "metadata": {},
   "source": [
    "Az előző attribútúmmal ellentétben sokkal egyenletesebben oszlik meg, így a hiányzó értékeket itt lehet a mediánnal lenne érdemesebb helyettesíteni."
   ]
  },
  {
   "cell_type": "code",
   "execution_count": 9,
   "metadata": {},
   "outputs": [
    {
     "data": {
      "text/plain": [
       "100.80985128395162"
      ]
     },
     "execution_count": 9,
     "metadata": {},
     "output_type": "execute_result"
    }
   ],
   "source": [
    "df['ACT_VALUE'].median()/df['ACT_VALUE'].mean()*100"
   ]
  },
  {
   "cell_type": "markdown",
   "metadata": {},
   "source": [
    "Bár a kettő gyakorlatilag megegyezik, tehát gyakorlatilag mindegy melyikkel helyettesítünk."
   ]
  },
  {
   "cell_type": "code",
   "execution_count": 10,
   "metadata": {},
   "outputs": [
    {
     "data": {
      "text/plain": [
       "<AxesSubplot:>"
      ]
     },
     "execution_count": 10,
     "metadata": {},
     "output_type": "execute_result"
    },
    {
     "data": {
      "image/png": "[encoded data removed]",
      "text/plain": [
       "<Figure size 432x288 with 1 Axes>"
      ]
     },
     "metadata": {
      "needs_background": "light"
     },
     "output_type": "display_data"
    }
   ],
   "source": [
    "df.boxplot(column=['drug_avr_mass'], return_type='axes')"
   ]
  },
  {
   "cell_type": "code",
   "execution_count": 11,
   "metadata": {},
   "outputs": [
    {
     "data": {
      "text/plain": [
       "[<matplotlib.lines.Line2D at 0xc02b8e0>]"
      ]
     },
     "execution_count": 11,
     "metadata": {},
     "output_type": "execute_result"
    },
    {
     "data": {
      "image/png": "[encoded data removed]",
      "text/plain": [
       "<Figure size 432x288 with 1 Axes>"
      ]
     },
     "metadata": {
      "needs_background": "light"
     },
     "output_type": "display_data"
    }
   ],
   "source": [
    "df['temp'] = 1\n",
    "df.plot(kind='scatter', x='temp', y='drug_avr_mass', alpha=0.1)\n",
    "plt.plot([0,1.04], [80000, 80000], 'r--')\n",
    "plt.plot([0,1.04], [10000, 10000], 'g--')"
   ]
  },
  {
   "cell_type": "markdown",
   "metadata": {},
   "source": [
    "Ebből a 2 ábárából az látszik, hogy a gyógyszerek tömegére vonatkozóan 2 nagyobb csoportosulás található. Egy \"könnyebb\" gyógyszerek, és egy \"nehezebb\" gyógyszerek, köztük pedig ritkásabb átmenettel."
   ]
  },
  {
   "cell_type": "code",
   "execution_count": 12,
   "metadata": {},
   "outputs": [
    {
     "data": {
      "text/plain": [
       "0.0"
      ]
     },
     "execution_count": 12,
     "metadata": {},
     "output_type": "execute_result"
    }
   ],
   "source": [
    "len(df[df['drug_avr_mass'] > 90000])/len(df)*100 # Az egyedek hány százaléka van 90e felett"
   ]
  },
  {
   "cell_type": "markdown",
   "metadata": {},
   "source": [
    "Ha a piros vonallal jelzett 90 000-es határt vesszük alapul, akkor azt láthatjuk, hogy csupán 1.65%-át (kb. 40-50 db) teszik ki ezek a \"nehezebb\" gyógyszerek a teljes datasetnek, így megfontolandó lenne ezeknek is az elhagyása."
   ]
  },
  {
   "cell_type": "code",
   "execution_count": 13,
   "metadata": {},
   "outputs": [
    {
     "data": {
      "image/png": "[encoded data removed]",
      "text/plain": [
       "<Figure size 432x288 with 1 Axes>"
      ]
     },
     "metadata": {
      "needs_background": "light"
     },
     "output_type": "display_data"
    }
   ],
   "source": [
    "for i in range(500, 900):\n",
    "    plt.scatter(i, len(df[df['drug_avr_mass'] > i])/len(df)*100, color='blue')"
   ]
  },
  {
   "cell_type": "markdown",
   "metadata": {},
   "source": [
    "Az ábrán az látható, hogyha az x tengelyen jelzett értékektől fölfelé vesszük kiugró értéknek a gyógyszer tömegét, akkor a teljes adathalmaz hány százalékát kéne elhagynunk. Látható, hogy 700 után jelentősen lelassul ennek a csökkenése, 900 körül pedig már szinte konstans értékre áll be, így akár mondjuk a hatalmas 90 000-es határ helyett, vehetnénk akár a 10 000-es határt, mert így alig vesztenénk el több rekordot, viszont 90 000 helyett, csupán 10 000-ig tartanának az értékek. Ezt a határt jelzi a zöld vonal."
   ]
  },
  {
   "cell_type": "code",
   "execution_count": 14,
   "metadata": {},
   "outputs": [
    {
     "data": {
      "text/plain": [
       "0.0"
      ]
     },
     "execution_count": 14,
     "metadata": {},
     "output_type": "execute_result"
    }
   ],
   "source": [
    "len(df[df['drug_avr_mass'] > 10000])/len(df)*100"
   ]
  },
  {
   "cell_type": "code",
   "execution_count": 15,
   "metadata": {},
   "outputs": [
    {
     "data": {
      "text/html": [
       "<div>\n",
       "<style scoped>\n",
       "    .dataframe tbody tr th:only-of-type {\n",
       "        vertical-align: middle;\n",
       "    }\n",
       "\n",
       "    .dataframe tbody tr th {\n",
       "        vertical-align: top;\n",
       "    }\n",
       "\n",
       "    .dataframe thead th {\n",
       "        text-align: right;\n",
       "    }\n",
       "</style>\n",
       "<table border=\"1\" class=\"dataframe\">\n",
       "  <thead>\n",
       "    <tr style=\"text-align: right;\">\n",
       "      <th></th>\n",
       "      <th>interaction_group_score</th>\n",
       "      <th>ACT_VALUE</th>\n",
       "      <th>drug_avr_mass</th>\n",
       "      <th>drug_predicted_logp</th>\n",
       "      <th>drug_nr_targets</th>\n",
       "      <th>drug_nr_enzymes</th>\n",
       "      <th>drug_nr_carriers</th>\n",
       "      <th>drug_nr_transporters</th>\n",
       "      <th>POLAR_SURFACE_AREA</th>\n",
       "      <th>ROTATABLE_BOND_COUNT</th>\n",
       "      <th>HYDROGEN_BOND_DONORS</th>\n",
       "      <th>HYDROGEN_BOND_ACCEPTORS</th>\n",
       "      <th>RING_COUNT</th>\n",
       "      <th>ATOM_COUNT</th>\n",
       "      <th>FORMAL_CHARGE</th>\n",
       "      <th>CHIRAL_CENTER_COUNT</th>\n",
       "    </tr>\n",
       "  </thead>\n",
       "  <tbody>\n",
       "    <tr>\n",
       "      <th>count</th>\n",
       "      <td>2342.000000</td>\n",
       "      <td>2177.000000</td>\n",
       "      <td>2419.000000</td>\n",
       "      <td>2410.000000</td>\n",
       "      <td>2421.000000</td>\n",
       "      <td>2421.000000</td>\n",
       "      <td>2421.000000</td>\n",
       "      <td>2421.000000</td>\n",
       "      <td>2421.000000</td>\n",
       "      <td>2421.000000</td>\n",
       "      <td>2421.00000</td>\n",
       "      <td>2421.000000</td>\n",
       "      <td>2421.000000</td>\n",
       "      <td>2421.000000</td>\n",
       "      <td>2421.000000</td>\n",
       "      <td>2421.000000</td>\n",
       "    </tr>\n",
       "    <tr>\n",
       "      <th>mean</th>\n",
       "      <td>1.767340</td>\n",
       "      <td>7.192664</td>\n",
       "      <td>389.598176</td>\n",
       "      <td>2.768982</td>\n",
       "      <td>8.111111</td>\n",
       "      <td>3.105328</td>\n",
       "      <td>0.436183</td>\n",
       "      <td>1.352747</td>\n",
       "      <td>76.082454</td>\n",
       "      <td>5.552664</td>\n",
       "      <td>1.86741</td>\n",
       "      <td>4.749690</td>\n",
       "      <td>3.368856</td>\n",
       "      <td>52.790169</td>\n",
       "      <td>0.026435</td>\n",
       "      <td>1.684841</td>\n",
       "    </tr>\n",
       "    <tr>\n",
       "      <th>std</th>\n",
       "      <td>10.612221</td>\n",
       "      <td>1.463173</td>\n",
       "      <td>283.746781</td>\n",
       "      <td>2.420060</td>\n",
       "      <td>8.561279</td>\n",
       "      <td>3.447969</td>\n",
       "      <td>0.764229</td>\n",
       "      <td>2.330072</td>\n",
       "      <td>120.572539</td>\n",
       "      <td>9.208479</td>\n",
       "      <td>4.05104</td>\n",
       "      <td>4.280086</td>\n",
       "      <td>1.581349</td>\n",
       "      <td>38.385299</td>\n",
       "      <td>0.184422</td>\n",
       "      <td>3.266568</td>\n",
       "    </tr>\n",
       "    <tr>\n",
       "      <th>min</th>\n",
       "      <td>0.000000</td>\n",
       "      <td>2.221800</td>\n",
       "      <td>46.068400</td>\n",
       "      <td>-33.103356</td>\n",
       "      <td>0.000000</td>\n",
       "      <td>0.000000</td>\n",
       "      <td>0.000000</td>\n",
       "      <td>0.000000</td>\n",
       "      <td>0.000000</td>\n",
       "      <td>0.000000</td>\n",
       "      <td>0.00000</td>\n",
       "      <td>0.000000</td>\n",
       "      <td>0.000000</td>\n",
       "      <td>8.000000</td>\n",
       "      <td>0.000000</td>\n",
       "      <td>0.000000</td>\n",
       "    </tr>\n",
       "    <tr>\n",
       "      <th>25%</th>\n",
       "      <td>0.070000</td>\n",
       "      <td>6.154900</td>\n",
       "      <td>281.352300</td>\n",
       "      <td>1.778753</td>\n",
       "      <td>2.000000</td>\n",
       "      <td>1.000000</td>\n",
       "      <td>0.000000</td>\n",
       "      <td>0.000000</td>\n",
       "      <td>36.260000</td>\n",
       "      <td>3.000000</td>\n",
       "      <td>1.00000</td>\n",
       "      <td>3.000000</td>\n",
       "      <td>2.000000</td>\n",
       "      <td>40.000000</td>\n",
       "      <td>0.000000</td>\n",
       "      <td>0.000000</td>\n",
       "    </tr>\n",
       "    <tr>\n",
       "      <th>50%</th>\n",
       "      <td>0.220000</td>\n",
       "      <td>7.250914</td>\n",
       "      <td>344.404900</td>\n",
       "      <td>3.221353</td>\n",
       "      <td>5.000000</td>\n",
       "      <td>2.000000</td>\n",
       "      <td>0.000000</td>\n",
       "      <td>1.000000</td>\n",
       "      <td>58.100000</td>\n",
       "      <td>4.000000</td>\n",
       "      <td>1.00000</td>\n",
       "      <td>4.000000</td>\n",
       "      <td>3.000000</td>\n",
       "      <td>48.000000</td>\n",
       "      <td>0.000000</td>\n",
       "      <td>0.000000</td>\n",
       "    </tr>\n",
       "    <tr>\n",
       "      <th>75%</th>\n",
       "      <td>0.790000</td>\n",
       "      <td>8.292430</td>\n",
       "      <td>428.562200</td>\n",
       "      <td>4.197729</td>\n",
       "      <td>11.000000</td>\n",
       "      <td>5.000000</td>\n",
       "      <td>1.000000</td>\n",
       "      <td>2.000000</td>\n",
       "      <td>88.910000</td>\n",
       "      <td>7.000000</td>\n",
       "      <td>2.00000</td>\n",
       "      <td>6.000000</td>\n",
       "      <td>4.000000</td>\n",
       "      <td>57.000000</td>\n",
       "      <td>0.000000</td>\n",
       "      <td>2.000000</td>\n",
       "    </tr>\n",
       "    <tr>\n",
       "      <th>max</th>\n",
       "      <td>312.430000</td>\n",
       "      <td>12.795900</td>\n",
       "      <td>4858.560000</td>\n",
       "      <td>10.569524</td>\n",
       "      <td>62.000000</td>\n",
       "      <td>23.000000</td>\n",
       "      <td>6.000000</td>\n",
       "      <td>22.000000</td>\n",
       "      <td>2062.660000</td>\n",
       "      <td>184.000000</td>\n",
       "      <td>69.00000</td>\n",
       "      <td>71.000000</td>\n",
       "      <td>12.000000</td>\n",
       "      <td>689.000000</td>\n",
       "      <td>2.000000</td>\n",
       "      <td>42.000000</td>\n",
       "    </tr>\n",
       "  </tbody>\n",
       "</table>\n",
       "</div>"
      ],
      "text/plain": [
       "       interaction_group_score    ACT_VALUE  drug_avr_mass  \\\n",
       "count              2342.000000  2177.000000    2419.000000   \n",
       "mean                  1.767340     7.192664     389.598176   \n",
       "std                  10.612221     1.463173     283.746781   \n",
       "min                   0.000000     2.221800      46.068400   \n",
       "25%                   0.070000     6.154900     281.352300   \n",
       "50%                   0.220000     7.250914     344.404900   \n",
       "75%                   0.790000     8.292430     428.562200   \n",
       "max                 312.430000    12.795900    4858.560000   \n",
       "\n",
       "       drug_predicted_logp  drug_nr_targets  drug_nr_enzymes  \\\n",
       "count          2410.000000      2421.000000      2421.000000   \n",
       "mean              2.768982         8.111111         3.105328   \n",
       "std               2.420060         8.561279         3.447969   \n",
       "min             -33.103356         0.000000         0.000000   \n",
       "25%               1.778753         2.000000         1.000000   \n",
       "50%               3.221353         5.000000         2.000000   \n",
       "75%               4.197729        11.000000         5.000000   \n",
       "max              10.569524        62.000000        23.000000   \n",
       "\n",
       "       drug_nr_carriers  drug_nr_transporters  POLAR_SURFACE_AREA  \\\n",
       "count       2421.000000           2421.000000         2421.000000   \n",
       "mean           0.436183              1.352747           76.082454   \n",
       "std            0.764229              2.330072          120.572539   \n",
       "min            0.000000              0.000000            0.000000   \n",
       "25%            0.000000              0.000000           36.260000   \n",
       "50%            0.000000              1.000000           58.100000   \n",
       "75%            1.000000              2.000000           88.910000   \n",
       "max            6.000000             22.000000         2062.660000   \n",
       "\n",
       "       ROTATABLE_BOND_COUNT  HYDROGEN_BOND_DONORS  HYDROGEN_BOND_ACCEPTORS  \\\n",
       "count           2421.000000            2421.00000              2421.000000   \n",
       "mean               5.552664               1.86741                 4.749690   \n",
       "std                9.208479               4.05104                 4.280086   \n",
       "min                0.000000               0.00000                 0.000000   \n",
       "25%                3.000000               1.00000                 3.000000   \n",
       "50%                4.000000               1.00000                 4.000000   \n",
       "75%                7.000000               2.00000                 6.000000   \n",
       "max              184.000000              69.00000                71.000000   \n",
       "\n",
       "        RING_COUNT   ATOM_COUNT  FORMAL_CHARGE  CHIRAL_CENTER_COUNT  \n",
       "count  2421.000000  2421.000000    2421.000000          2421.000000  \n",
       "mean      3.368856    52.790169       0.026435             1.684841  \n",
       "std       1.581349    38.385299       0.184422             3.266568  \n",
       "min       0.000000     8.000000       0.000000             0.000000  \n",
       "25%       2.000000    40.000000       0.000000             0.000000  \n",
       "50%       3.000000    48.000000       0.000000             0.000000  \n",
       "75%       4.000000    57.000000       0.000000             2.000000  \n",
       "max      12.000000   689.000000       2.000000            42.000000  "
      ]
     },
     "execution_count": 15,
     "metadata": {},
     "output_type": "execute_result"
    }
   ],
   "source": [
    "df.drop(['temp'], axis=1, inplace=True)\n",
    "df.describe()"
   ]
  },
  {
   "cell_type": "code",
   "execution_count": 16,
   "metadata": {},
   "outputs": [
    {
     "data": {
      "text/plain": [
       "<AxesSubplot:>"
      ]
     },
     "execution_count": 16,
     "metadata": {},
     "output_type": "execute_result"
    },
    {
     "data": {
      "image/png": "[encoded data removed]",
      "text/plain": [
       "<Figure size 432x288 with 1 Axes>"
      ]
     },
     "metadata": {
      "needs_background": "light"
     },
     "output_type": "display_data"
    }
   ],
   "source": [
    "df.boxplot(column=['drug_predicted_logp'], return_type='axes')"
   ]
  },
  {
   "cell_type": "markdown",
   "metadata": {},
   "source": [
    "Ez az oszlop elég szép eloszlást mutat, néhány kiugró értékkel (például a minimum), ezek elhagyása lehet, hogy szükséges lenne."
   ]
  },
  {
   "cell_type": "code",
   "execution_count": 17,
   "metadata": {},
   "outputs": [
    {
     "data": {
      "text/plain": [
       "<AxesSubplot:>"
      ]
     },
     "execution_count": 17,
     "metadata": {},
     "output_type": "execute_result"
    },
    {
     "data": {
      "image/png": "[encoded data removed]",
      "text/plain": [
       "<Figure size 432x288 with 1 Axes>"
      ]
     },
     "metadata": {
      "needs_background": "light"
     },
     "output_type": "display_data"
    }
   ],
   "source": [
    "df.boxplot(column=['drug_nr_targets'], return_type='axes')"
   ]
  },
  {
   "cell_type": "markdown",
   "metadata": {},
   "source": [
    "Itt szerepel egy hatalmas kiugró érték, amitől meg kéne szabadulni, de egyébként, ha ezt a numerikus változót majd kategorikussá alakítanánk (0-5-ig, 6-10, 11-20, 20+, pl...) akkor a többi, dobozon kívüli érték megtartható lenne, ami azért lenne jó, mert azért csoportosulást alkotnak."
   ]
  },
  {
   "cell_type": "code",
   "execution_count": 18,
   "metadata": {},
   "outputs": [
    {
     "data": {
      "text/plain": [
       "<AxesSubplot:>"
      ]
     },
     "execution_count": 18,
     "metadata": {},
     "output_type": "execute_result"
    },
    {
     "data": {
      "image/png": "[encoded data removed]",
      "text/plain": [
       "<Figure size 432x288 with 1 Axes>"
      ]
     },
     "metadata": {
      "needs_background": "light"
     },
     "output_type": "display_data"
    }
   ],
   "source": [
    "df.boxplot(column=['drug_nr_enzymes'], return_type='axes')"
   ]
  },
  {
   "cell_type": "markdown",
   "metadata": {},
   "source": [
    "Ez és a nr_carriers oszlop, valamint a nr_transporters oszlop szép eloszlást mutat. Mivel azonban mindegyiküknél gyakran előforduló érték a 0, ezért érdemes lehet később ezeket a numerikus értékeket kategorikussá alakítani, és a 0 értéket külön kategóriaként kezelni."
   ]
  },
  {
   "cell_type": "code",
   "execution_count": 19,
   "metadata": {},
   "outputs": [
    {
     "data": {
      "text/html": [
       "<div>\n",
       "<style scoped>\n",
       "    .dataframe tbody tr th:only-of-type {\n",
       "        vertical-align: middle;\n",
       "    }\n",
       "\n",
       "    .dataframe tbody tr th {\n",
       "        vertical-align: top;\n",
       "    }\n",
       "\n",
       "    .dataframe thead th {\n",
       "        text-align: right;\n",
       "    }\n",
       "</style>\n",
       "<table border=\"1\" class=\"dataframe\">\n",
       "  <thead>\n",
       "    <tr style=\"text-align: right;\">\n",
       "      <th></th>\n",
       "      <th>gene_name</th>\n",
       "      <th>interaction_types</th>\n",
       "      <th>drug_claim_primary_name</th>\n",
       "      <th>interaction_group_score</th>\n",
       "      <th>TARGET_NAME</th>\n",
       "      <th>TARGET_CLASS</th>\n",
       "      <th>ACT_VALUE</th>\n",
       "      <th>drug_approved</th>\n",
       "      <th>drug_avr_mass</th>\n",
       "      <th>drug_predicted_logp</th>\n",
       "      <th>...</th>\n",
       "      <th>drug_nr_carriers</th>\n",
       "      <th>drug_nr_transporters</th>\n",
       "      <th>POLAR_SURFACE_AREA</th>\n",
       "      <th>ROTATABLE_BOND_COUNT</th>\n",
       "      <th>HYDROGEN_BOND_DONORS</th>\n",
       "      <th>HYDROGEN_BOND_ACCEPTORS</th>\n",
       "      <th>RING_COUNT</th>\n",
       "      <th>ATOM_COUNT</th>\n",
       "      <th>FORMAL_CHARGE</th>\n",
       "      <th>CHIRAL_CENTER_COUNT</th>\n",
       "    </tr>\n",
       "  </thead>\n",
       "  <tbody>\n",
       "    <tr>\n",
       "      <th>count</th>\n",
       "      <td>2394</td>\n",
       "      <td>2421</td>\n",
       "      <td>2421</td>\n",
       "      <td>2342.000000</td>\n",
       "      <td>2421</td>\n",
       "      <td>2421</td>\n",
       "      <td>2177.000000</td>\n",
       "      <td>2421</td>\n",
       "      <td>2419.000000</td>\n",
       "      <td>2410.000000</td>\n",
       "      <td>...</td>\n",
       "      <td>2421.000000</td>\n",
       "      <td>2421.000000</td>\n",
       "      <td>2421.000000</td>\n",
       "      <td>2421.000000</td>\n",
       "      <td>2421.00000</td>\n",
       "      <td>2421.000000</td>\n",
       "      <td>2421.000000</td>\n",
       "      <td>2421.000000</td>\n",
       "      <td>2421.000000</td>\n",
       "      <td>2421.000000</td>\n",
       "    </tr>\n",
       "    <tr>\n",
       "      <th>unique</th>\n",
       "      <td>541</td>\n",
       "      <td>36</td>\n",
       "      <td>910</td>\n",
       "      <td>NaN</td>\n",
       "      <td>556</td>\n",
       "      <td>16</td>\n",
       "      <td>NaN</td>\n",
       "      <td>2</td>\n",
       "      <td>NaN</td>\n",
       "      <td>NaN</td>\n",
       "      <td>...</td>\n",
       "      <td>NaN</td>\n",
       "      <td>NaN</td>\n",
       "      <td>NaN</td>\n",
       "      <td>NaN</td>\n",
       "      <td>NaN</td>\n",
       "      <td>NaN</td>\n",
       "      <td>NaN</td>\n",
       "      <td>NaN</td>\n",
       "      <td>NaN</td>\n",
       "      <td>NaN</td>\n",
       "    </tr>\n",
       "    <tr>\n",
       "      <th>top</th>\n",
       "      <td>HTR2A</td>\n",
       "      <td>antagonist</td>\n",
       "      <td>aripiprazole</td>\n",
       "      <td>NaN</td>\n",
       "      <td>5-hydroxytryptamine receptor 2A</td>\n",
       "      <td>GPCR</td>\n",
       "      <td>NaN</td>\n",
       "      <td>True</td>\n",
       "      <td>NaN</td>\n",
       "      <td>NaN</td>\n",
       "      <td>...</td>\n",
       "      <td>NaN</td>\n",
       "      <td>NaN</td>\n",
       "      <td>NaN</td>\n",
       "      <td>NaN</td>\n",
       "      <td>NaN</td>\n",
       "      <td>NaN</td>\n",
       "      <td>NaN</td>\n",
       "      <td>NaN</td>\n",
       "      <td>NaN</td>\n",
       "      <td>NaN</td>\n",
       "    </tr>\n",
       "    <tr>\n",
       "      <th>freq</th>\n",
       "      <td>63</td>\n",
       "      <td>812</td>\n",
       "      <td>31</td>\n",
       "      <td>NaN</td>\n",
       "      <td>63</td>\n",
       "      <td>1237</td>\n",
       "      <td>NaN</td>\n",
       "      <td>2218</td>\n",
       "      <td>NaN</td>\n",
       "      <td>NaN</td>\n",
       "      <td>...</td>\n",
       "      <td>NaN</td>\n",
       "      <td>NaN</td>\n",
       "      <td>NaN</td>\n",
       "      <td>NaN</td>\n",
       "      <td>NaN</td>\n",
       "      <td>NaN</td>\n",
       "      <td>NaN</td>\n",
       "      <td>NaN</td>\n",
       "      <td>NaN</td>\n",
       "      <td>NaN</td>\n",
       "    </tr>\n",
       "    <tr>\n",
       "      <th>mean</th>\n",
       "      <td>NaN</td>\n",
       "      <td>NaN</td>\n",
       "      <td>NaN</td>\n",
       "      <td>1.767340</td>\n",
       "      <td>NaN</td>\n",
       "      <td>NaN</td>\n",
       "      <td>7.192664</td>\n",
       "      <td>NaN</td>\n",
       "      <td>389.598176</td>\n",
       "      <td>2.768982</td>\n",
       "      <td>...</td>\n",
       "      <td>0.436183</td>\n",
       "      <td>1.352747</td>\n",
       "      <td>76.082454</td>\n",
       "      <td>5.552664</td>\n",
       "      <td>1.86741</td>\n",
       "      <td>4.749690</td>\n",
       "      <td>3.368856</td>\n",
       "      <td>52.790169</td>\n",
       "      <td>0.026435</td>\n",
       "      <td>1.684841</td>\n",
       "    </tr>\n",
       "    <tr>\n",
       "      <th>std</th>\n",
       "      <td>NaN</td>\n",
       "      <td>NaN</td>\n",
       "      <td>NaN</td>\n",
       "      <td>10.612221</td>\n",
       "      <td>NaN</td>\n",
       "      <td>NaN</td>\n",
       "      <td>1.463173</td>\n",
       "      <td>NaN</td>\n",
       "      <td>283.746781</td>\n",
       "      <td>2.420060</td>\n",
       "      <td>...</td>\n",
       "      <td>0.764229</td>\n",
       "      <td>2.330072</td>\n",
       "      <td>120.572539</td>\n",
       "      <td>9.208479</td>\n",
       "      <td>4.05104</td>\n",
       "      <td>4.280086</td>\n",
       "      <td>1.581349</td>\n",
       "      <td>38.385299</td>\n",
       "      <td>0.184422</td>\n",
       "      <td>3.266568</td>\n",
       "    </tr>\n",
       "    <tr>\n",
       "      <th>min</th>\n",
       "      <td>NaN</td>\n",
       "      <td>NaN</td>\n",
       "      <td>NaN</td>\n",
       "      <td>0.000000</td>\n",
       "      <td>NaN</td>\n",
       "      <td>NaN</td>\n",
       "      <td>2.221800</td>\n",
       "      <td>NaN</td>\n",
       "      <td>46.068400</td>\n",
       "      <td>-33.103356</td>\n",
       "      <td>...</td>\n",
       "      <td>0.000000</td>\n",
       "      <td>0.000000</td>\n",
       "      <td>0.000000</td>\n",
       "      <td>0.000000</td>\n",
       "      <td>0.00000</td>\n",
       "      <td>0.000000</td>\n",
       "      <td>0.000000</td>\n",
       "      <td>8.000000</td>\n",
       "      <td>0.000000</td>\n",
       "      <td>0.000000</td>\n",
       "    </tr>\n",
       "    <tr>\n",
       "      <th>25%</th>\n",
       "      <td>NaN</td>\n",
       "      <td>NaN</td>\n",
       "      <td>NaN</td>\n",
       "      <td>0.070000</td>\n",
       "      <td>NaN</td>\n",
       "      <td>NaN</td>\n",
       "      <td>6.154900</td>\n",
       "      <td>NaN</td>\n",
       "      <td>281.352300</td>\n",
       "      <td>1.778753</td>\n",
       "      <td>...</td>\n",
       "      <td>0.000000</td>\n",
       "      <td>0.000000</td>\n",
       "      <td>36.260000</td>\n",
       "      <td>3.000000</td>\n",
       "      <td>1.00000</td>\n",
       "      <td>3.000000</td>\n",
       "      <td>2.000000</td>\n",
       "      <td>40.000000</td>\n",
       "      <td>0.000000</td>\n",
       "      <td>0.000000</td>\n",
       "    </tr>\n",
       "    <tr>\n",
       "      <th>50%</th>\n",
       "      <td>NaN</td>\n",
       "      <td>NaN</td>\n",
       "      <td>NaN</td>\n",
       "      <td>0.220000</td>\n",
       "      <td>NaN</td>\n",
       "      <td>NaN</td>\n",
       "      <td>7.250914</td>\n",
       "      <td>NaN</td>\n",
       "      <td>344.404900</td>\n",
       "      <td>3.221353</td>\n",
       "      <td>...</td>\n",
       "      <td>0.000000</td>\n",
       "      <td>1.000000</td>\n",
       "      <td>58.100000</td>\n",
       "      <td>4.000000</td>\n",
       "      <td>1.00000</td>\n",
       "      <td>4.000000</td>\n",
       "      <td>3.000000</td>\n",
       "      <td>48.000000</td>\n",
       "      <td>0.000000</td>\n",
       "      <td>0.000000</td>\n",
       "    </tr>\n",
       "    <tr>\n",
       "      <th>75%</th>\n",
       "      <td>NaN</td>\n",
       "      <td>NaN</td>\n",
       "      <td>NaN</td>\n",
       "      <td>0.790000</td>\n",
       "      <td>NaN</td>\n",
       "      <td>NaN</td>\n",
       "      <td>8.292430</td>\n",
       "      <td>NaN</td>\n",
       "      <td>428.562200</td>\n",
       "      <td>4.197729</td>\n",
       "      <td>...</td>\n",
       "      <td>1.000000</td>\n",
       "      <td>2.000000</td>\n",
       "      <td>88.910000</td>\n",
       "      <td>7.000000</td>\n",
       "      <td>2.00000</td>\n",
       "      <td>6.000000</td>\n",
       "      <td>4.000000</td>\n",
       "      <td>57.000000</td>\n",
       "      <td>0.000000</td>\n",
       "      <td>2.000000</td>\n",
       "    </tr>\n",
       "    <tr>\n",
       "      <th>max</th>\n",
       "      <td>NaN</td>\n",
       "      <td>NaN</td>\n",
       "      <td>NaN</td>\n",
       "      <td>312.430000</td>\n",
       "      <td>NaN</td>\n",
       "      <td>NaN</td>\n",
       "      <td>12.795900</td>\n",
       "      <td>NaN</td>\n",
       "      <td>4858.560000</td>\n",
       "      <td>10.569524</td>\n",
       "      <td>...</td>\n",
       "      <td>6.000000</td>\n",
       "      <td>22.000000</td>\n",
       "      <td>2062.660000</td>\n",
       "      <td>184.000000</td>\n",
       "      <td>69.00000</td>\n",
       "      <td>71.000000</td>\n",
       "      <td>12.000000</td>\n",
       "      <td>689.000000</td>\n",
       "      <td>2.000000</td>\n",
       "      <td>42.000000</td>\n",
       "    </tr>\n",
       "  </tbody>\n",
       "</table>\n",
       "<p>11 rows × 23 columns</p>\n",
       "</div>"
      ],
      "text/plain": [
       "       gene_name interaction_types drug_claim_primary_name  \\\n",
       "count       2394              2421                    2421   \n",
       "unique       541                36                     910   \n",
       "top        HTR2A        antagonist            aripiprazole   \n",
       "freq          63               812                      31   \n",
       "mean         NaN               NaN                     NaN   \n",
       "std          NaN               NaN                     NaN   \n",
       "min          NaN               NaN                     NaN   \n",
       "25%          NaN               NaN                     NaN   \n",
       "50%          NaN               NaN                     NaN   \n",
       "75%          NaN               NaN                     NaN   \n",
       "max          NaN               NaN                     NaN   \n",
       "\n",
       "        interaction_group_score                      TARGET_NAME TARGET_CLASS  \\\n",
       "count               2342.000000                             2421         2421   \n",
       "unique                      NaN                              556           16   \n",
       "top                         NaN  5-hydroxytryptamine receptor 2A         GPCR   \n",
       "freq                        NaN                               63         1237   \n",
       "mean                   1.767340                              NaN          NaN   \n",
       "std                   10.612221                              NaN          NaN   \n",
       "min                    0.000000                              NaN          NaN   \n",
       "25%                    0.070000                              NaN          NaN   \n",
       "50%                    0.220000                              NaN          NaN   \n",
       "75%                    0.790000                              NaN          NaN   \n",
       "max                  312.430000                              NaN          NaN   \n",
       "\n",
       "          ACT_VALUE drug_approved  drug_avr_mass  drug_predicted_logp  ...  \\\n",
       "count   2177.000000          2421    2419.000000          2410.000000  ...   \n",
       "unique          NaN             2            NaN                  NaN  ...   \n",
       "top             NaN          True            NaN                  NaN  ...   \n",
       "freq            NaN          2218            NaN                  NaN  ...   \n",
       "mean       7.192664           NaN     389.598176             2.768982  ...   \n",
       "std        1.463173           NaN     283.746781             2.420060  ...   \n",
       "min        2.221800           NaN      46.068400           -33.103356  ...   \n",
       "25%        6.154900           NaN     281.352300             1.778753  ...   \n",
       "50%        7.250914           NaN     344.404900             3.221353  ...   \n",
       "75%        8.292430           NaN     428.562200             4.197729  ...   \n",
       "max       12.795900           NaN    4858.560000            10.569524  ...   \n",
       "\n",
       "       drug_nr_carriers  drug_nr_transporters  POLAR_SURFACE_AREA  \\\n",
       "count       2421.000000           2421.000000         2421.000000   \n",
       "unique              NaN                   NaN                 NaN   \n",
       "top                 NaN                   NaN                 NaN   \n",
       "freq                NaN                   NaN                 NaN   \n",
       "mean           0.436183              1.352747           76.082454   \n",
       "std            0.764229              2.330072          120.572539   \n",
       "min            0.000000              0.000000            0.000000   \n",
       "25%            0.000000              0.000000           36.260000   \n",
       "50%            0.000000              1.000000           58.100000   \n",
       "75%            1.000000              2.000000           88.910000   \n",
       "max            6.000000             22.000000         2062.660000   \n",
       "\n",
       "        ROTATABLE_BOND_COUNT  HYDROGEN_BOND_DONORS  HYDROGEN_BOND_ACCEPTORS  \\\n",
       "count            2421.000000            2421.00000              2421.000000   \n",
       "unique                   NaN                   NaN                      NaN   \n",
       "top                      NaN                   NaN                      NaN   \n",
       "freq                     NaN                   NaN                      NaN   \n",
       "mean                5.552664               1.86741                 4.749690   \n",
       "std                 9.208479               4.05104                 4.280086   \n",
       "min                 0.000000               0.00000                 0.000000   \n",
       "25%                 3.000000               1.00000                 3.000000   \n",
       "50%                 4.000000               1.00000                 4.000000   \n",
       "75%                 7.000000               2.00000                 6.000000   \n",
       "max               184.000000              69.00000                71.000000   \n",
       "\n",
       "         RING_COUNT   ATOM_COUNT  FORMAL_CHARGE  CHIRAL_CENTER_COUNT  \n",
       "count   2421.000000  2421.000000    2421.000000          2421.000000  \n",
       "unique          NaN          NaN            NaN                  NaN  \n",
       "top             NaN          NaN            NaN                  NaN  \n",
       "freq            NaN          NaN            NaN                  NaN  \n",
       "mean       3.368856    52.790169       0.026435             1.684841  \n",
       "std        1.581349    38.385299       0.184422             3.266568  \n",
       "min        0.000000     8.000000       0.000000             0.000000  \n",
       "25%        2.000000    40.000000       0.000000             0.000000  \n",
       "50%        3.000000    48.000000       0.000000             0.000000  \n",
       "75%        4.000000    57.000000       0.000000             2.000000  \n",
       "max       12.000000   689.000000       2.000000            42.000000  \n",
       "\n",
       "[11 rows x 23 columns]"
      ]
     },
     "execution_count": 19,
     "metadata": {},
     "output_type": "execute_result"
    }
   ],
   "source": [
    "df.describe(include='all')"
   ]
  },
  {
   "cell_type": "code",
   "execution_count": 20,
   "metadata": {},
   "outputs": [
    {
     "data": {
      "text/plain": [
       "<AxesSubplot:>"
      ]
     },
     "execution_count": 20,
     "metadata": {},
     "output_type": "execute_result"
    },
    {
     "data": {
      "image/png": "[encoded data removed]",
      "text/plain": [
       "<Figure size 1080x360 with 1 Axes>"
      ]
     },
     "metadata": {
      "needs_background": "light"
     },
     "output_type": "display_data"
    }
   ],
   "source": [
    "df['interaction_types'].value_counts().plot(kind='bar', figsize=(15,5))"
   ]
  },
  {
   "cell_type": "markdown",
   "metadata": {},
   "source": [
    "Az interaction_types oszlopban érdemes lenne megtartani a 3-4 fő kategóriát, azokhoz hozzávenni a speciálisabb eseteiket (pl. agonisthoz partial_agonist), és minden más típust összefogni egy 'other' kategóriával (pl adduct, cleavage, stb...)"
   ]
  },
  {
   "cell_type": "code",
   "execution_count": 21,
   "metadata": {},
   "outputs": [
    {
     "data": {
      "text/plain": [
       "<AxesSubplot:>"
      ]
     },
     "execution_count": 21,
     "metadata": {},
     "output_type": "execute_result"
    },
    {
     "data": {
      "image/png": "[encoded data removed]",
      "text/plain": [
       "<Figure size 1080x360 with 1 Axes>"
      ]
     },
     "metadata": {
      "needs_background": "light"
     },
     "output_type": "display_data"
    }
   ],
   "source": [
    "df['TARGET_CLASS'].value_counts().plot(kind='bar', figsize=(15,5))"
   ]
  },
  {
   "cell_type": "markdown",
   "metadata": {},
   "source": [
    "Szintén a Transporter kategóriáig lenne érdemes külön kategóriaként kezelni a lehetséges értékeket, utána még a 2 receptort receptorként kezelni (mivel ezeknek együttes értéke azért eléri a többi kategória értékét), illetve a többi kategóriát otherként kezelni."
   ]
  },
  {
   "cell_type": "code",
   "execution_count": 22,
   "metadata": {},
   "outputs": [
    {
     "data": {
      "text/plain": [
       "True     2218\n",
       "False     203\n",
       "Name: drug_approved, dtype: int64"
      ]
     },
     "execution_count": 22,
     "metadata": {},
     "output_type": "execute_result"
    }
   ],
   "source": [
    "df['drug_approved'].value_counts()"
   ]
  },
  {
   "cell_type": "markdown",
   "metadata": {},
   "source": [
    "Érdekes módon 210 olyan gyógyszer is szerepel amelyet nem hagytak jóvá. Ezt akár labelként is érdemes lenne kezelni, és azt megjósolni, hogy egy gyógyszert jóváhagynak-e valószínűleg. A hátránya ennek az lehet, hogy mivel nagyjából 10%-át teszik ki a False esetek száma, nagyon jó accuracyt kéne elérni a modelnek, hogy a nagyon primitív, minden esetre True-t jósóló 90%-os accuracyjú modelt egyáltalán überelni tudja. (Ebben az esetben a precision értékre lenne érdemes rágyúrni a recallal szemben, azaz amire azt jósolja, hogy jóváhagyják az tényleg legyen is jóváhagyva.)"
   ]
  },
  {
   "cell_type": "code",
   "execution_count": 23,
   "metadata": {},
   "outputs": [
    {
     "data": {
      "text/plain": [
       "True     1964\n",
       "False     457\n",
       "Name: drug_rule_of_five, dtype: int64"
      ]
     },
     "execution_count": 23,
     "metadata": {},
     "output_type": "execute_result"
    }
   ],
   "source": [
    "df['drug_rule_of_five'].value_counts()"
   ]
  },
  {
   "cell_type": "markdown",
   "metadata": {},
   "source": [
    "Az előzőhöz hasonlóan akár labelként is szolgálhatna, bár ennek az értékét talán egyszerűen meg is lehetne mérni laboratóriumban, hiszen az oszlop jelentése a következő:\n",
    "Lipinski ötös szabálya azt mondja ki, hogy egy gyógyszer jó felszívódása esetén (orálisan aktív) a következő állítások közül legfeljebb egyet szeg meg a gyógyszer - azaz egy vegyület akkor lehet gyógyszer, ha legalább hármat kielégít ezek közül:\n",
    "\n",
    "hidrogéndonor atomok száma (donorHB) ≤ 5\n",
    "\n",
    "hidrogénaceptor atomok száma (acptHB) ≤ 10\n",
    "\n",
    "a molekulatömeg (MW) < 500 dalton (vagy g / mol)\n",
    "\n",
    "az oktanol-víz megoszlási hányados (logP) < 5\n",
    "\n",
    "Mivel mindegyik állításban az 5 többszörösei szerepelnek, ezért kapta az ötös szabály nevet."
   ]
  },
  {
   "cell_type": "markdown",
   "metadata": {},
   "source": [
    "# Összefoglalva\n",
    "\n",
    "### Attribútumok\n",
    "\n",
    "###### interaction_group_score:\n",
    "    Outlierek szűrése, és a hiányzó adatok pótlása az átlaggal.\n",
    "\n",
    "###### ACT_VALUE:\n",
    "    Outlierek nem nagyon találhatóak, null valuek viszont igen, azokat átlaggal/mediánnal helyettesíteni\n",
    "    \n",
    "\n",
    "###### drug_avr_mass:\n",
    "    A látott dolgok miatt, a 10 ezres határon felüli outlierek elhagyása, illetve feature scaling is szükséges lehet, a nagyságrendbeli eltérés miatt.\n",
    "    \n",
    "###### drug_predicted_logp:    \n",
    "    Egy-egy outlier elhagyása egyébként \"normális oszlop\".\n",
    "    \n",
    "###### drug_nr_targets/enzymes/carriers/transporters:\n",
    "    A szükséges helyen az outlierek elhagyása, illetve a numerikus adatok kategorikussá alakítása a nullával, mint külön kategóriával.\n",
    "    \n",
    "###### interaction_types/TARGET_CLASS:\n",
    "    A leggyakoribb kategóriák megtartása, a többi osszevonása 1 kategóriába\n",
    "\n",
    "###### drug_approved/drug_rule_of_five:\n",
    "    Esetleg labelként való használatuk később, ha ennek van értelme\n"
   ]
  },
  {
   "cell_type": "code",
   "execution_count": 24,
   "metadata": {},
   "outputs": [
    {
     "data": {
      "image/png": "[encoded data removed]",
      "text/plain": [
       "<Figure size 432x288 with 2 Axes>"
      ]
     },
     "metadata": {
      "needs_background": "light"
     },
     "output_type": "display_data"
    }
   ],
   "source": [
    "import seaborn as sns\n",
    "corr = df.corr()\n",
    "ax = sns.heatmap(\n",
    "    corr, \n",
    "    vmin=-1, vmax=1, center=0,\n",
    "    cmap=sns.diverging_palette(20, 220, n=200),\n",
    "    square=True\n",
    ")\n",
    "ax.set_xticklabels(\n",
    "    ax.get_xticklabels(),\n",
    "    rotation=45,\n",
    "    horizontalalignment='right'\n",
    ");"
   ]
  },
  {
   "cell_type": "markdown",
   "metadata": {},
   "source": [
    "Szerencsére az attribútumok nem korrelálnak egymással, így nem hordoznak redundáns információt. Egyedül a tömeggel kapcsolatban figyelhető meg ez kissé 2 helyen, de nem olyan nagy mértékben."
   ]
  },
  {
   "cell_type": "markdown",
   "metadata": {},
   "source": [
    "## EDA a bővített dataset új részein"
   ]
  },
  {
   "cell_type": "code",
   "execution_count": 25,
   "metadata": {},
   "outputs": [
    {
     "data": {
      "text/html": [
       "<div>\n",
       "<style scoped>\n",
       "    .dataframe tbody tr th:only-of-type {\n",
       "        vertical-align: middle;\n",
       "    }\n",
       "\n",
       "    .dataframe tbody tr th {\n",
       "        vertical-align: top;\n",
       "    }\n",
       "\n",
       "    .dataframe thead th {\n",
       "        text-align: right;\n",
       "    }\n",
       "</style>\n",
       "<table border=\"1\" class=\"dataframe\">\n",
       "  <thead>\n",
       "    <tr style=\"text-align: right;\">\n",
       "      <th></th>\n",
       "      <th>interaction_group_score</th>\n",
       "      <th>ACT_VALUE</th>\n",
       "      <th>drug_avr_mass</th>\n",
       "      <th>drug_predicted_logp</th>\n",
       "      <th>drug_nr_targets</th>\n",
       "      <th>drug_nr_enzymes</th>\n",
       "      <th>drug_nr_carriers</th>\n",
       "      <th>drug_nr_transporters</th>\n",
       "      <th>POLAR_SURFACE_AREA</th>\n",
       "      <th>ROTATABLE_BOND_COUNT</th>\n",
       "      <th>HYDROGEN_BOND_DONORS</th>\n",
       "      <th>HYDROGEN_BOND_ACCEPTORS</th>\n",
       "      <th>RING_COUNT</th>\n",
       "      <th>ATOM_COUNT</th>\n",
       "      <th>FORMAL_CHARGE</th>\n",
       "      <th>CHIRAL_CENTER_COUNT</th>\n",
       "    </tr>\n",
       "  </thead>\n",
       "  <tbody>\n",
       "    <tr>\n",
       "      <th>count</th>\n",
       "      <td>2342.000000</td>\n",
       "      <td>2177.000000</td>\n",
       "      <td>2419.000000</td>\n",
       "      <td>2410.000000</td>\n",
       "      <td>2421.000000</td>\n",
       "      <td>2421.000000</td>\n",
       "      <td>2421.000000</td>\n",
       "      <td>2421.000000</td>\n",
       "      <td>2421.000000</td>\n",
       "      <td>2421.000000</td>\n",
       "      <td>2421.00000</td>\n",
       "      <td>2421.000000</td>\n",
       "      <td>2421.000000</td>\n",
       "      <td>2421.000000</td>\n",
       "      <td>2421.000000</td>\n",
       "      <td>2421.000000</td>\n",
       "    </tr>\n",
       "    <tr>\n",
       "      <th>mean</th>\n",
       "      <td>1.767340</td>\n",
       "      <td>7.192664</td>\n",
       "      <td>389.598176</td>\n",
       "      <td>2.768982</td>\n",
       "      <td>8.111111</td>\n",
       "      <td>3.105328</td>\n",
       "      <td>0.436183</td>\n",
       "      <td>1.352747</td>\n",
       "      <td>76.082454</td>\n",
       "      <td>5.552664</td>\n",
       "      <td>1.86741</td>\n",
       "      <td>4.749690</td>\n",
       "      <td>3.368856</td>\n",
       "      <td>52.790169</td>\n",
       "      <td>0.026435</td>\n",
       "      <td>1.684841</td>\n",
       "    </tr>\n",
       "    <tr>\n",
       "      <th>std</th>\n",
       "      <td>10.612221</td>\n",
       "      <td>1.463173</td>\n",
       "      <td>283.746781</td>\n",
       "      <td>2.420060</td>\n",
       "      <td>8.561279</td>\n",
       "      <td>3.447969</td>\n",
       "      <td>0.764229</td>\n",
       "      <td>2.330072</td>\n",
       "      <td>120.572539</td>\n",
       "      <td>9.208479</td>\n",
       "      <td>4.05104</td>\n",
       "      <td>4.280086</td>\n",
       "      <td>1.581349</td>\n",
       "      <td>38.385299</td>\n",
       "      <td>0.184422</td>\n",
       "      <td>3.266568</td>\n",
       "    </tr>\n",
       "    <tr>\n",
       "      <th>min</th>\n",
       "      <td>0.000000</td>\n",
       "      <td>2.221800</td>\n",
       "      <td>46.068400</td>\n",
       "      <td>-33.103356</td>\n",
       "      <td>0.000000</td>\n",
       "      <td>0.000000</td>\n",
       "      <td>0.000000</td>\n",
       "      <td>0.000000</td>\n",
       "      <td>0.000000</td>\n",
       "      <td>0.000000</td>\n",
       "      <td>0.00000</td>\n",
       "      <td>0.000000</td>\n",
       "      <td>0.000000</td>\n",
       "      <td>8.000000</td>\n",
       "      <td>0.000000</td>\n",
       "      <td>0.000000</td>\n",
       "    </tr>\n",
       "    <tr>\n",
       "      <th>25%</th>\n",
       "      <td>0.070000</td>\n",
       "      <td>6.154900</td>\n",
       "      <td>281.352300</td>\n",
       "      <td>1.778753</td>\n",
       "      <td>2.000000</td>\n",
       "      <td>1.000000</td>\n",
       "      <td>0.000000</td>\n",
       "      <td>0.000000</td>\n",
       "      <td>36.260000</td>\n",
       "      <td>3.000000</td>\n",
       "      <td>1.00000</td>\n",
       "      <td>3.000000</td>\n",
       "      <td>2.000000</td>\n",
       "      <td>40.000000</td>\n",
       "      <td>0.000000</td>\n",
       "      <td>0.000000</td>\n",
       "    </tr>\n",
       "    <tr>\n",
       "      <th>50%</th>\n",
       "      <td>0.220000</td>\n",
       "      <td>7.250914</td>\n",
       "      <td>344.404900</td>\n",
       "      <td>3.221353</td>\n",
       "      <td>5.000000</td>\n",
       "      <td>2.000000</td>\n",
       "      <td>0.000000</td>\n",
       "      <td>1.000000</td>\n",
       "      <td>58.100000</td>\n",
       "      <td>4.000000</td>\n",
       "      <td>1.00000</td>\n",
       "      <td>4.000000</td>\n",
       "      <td>3.000000</td>\n",
       "      <td>48.000000</td>\n",
       "      <td>0.000000</td>\n",
       "      <td>0.000000</td>\n",
       "    </tr>\n",
       "    <tr>\n",
       "      <th>75%</th>\n",
       "      <td>0.790000</td>\n",
       "      <td>8.292430</td>\n",
       "      <td>428.562200</td>\n",
       "      <td>4.197729</td>\n",
       "      <td>11.000000</td>\n",
       "      <td>5.000000</td>\n",
       "      <td>1.000000</td>\n",
       "      <td>2.000000</td>\n",
       "      <td>88.910000</td>\n",
       "      <td>7.000000</td>\n",
       "      <td>2.00000</td>\n",
       "      <td>6.000000</td>\n",
       "      <td>4.000000</td>\n",
       "      <td>57.000000</td>\n",
       "      <td>0.000000</td>\n",
       "      <td>2.000000</td>\n",
       "    </tr>\n",
       "    <tr>\n",
       "      <th>max</th>\n",
       "      <td>312.430000</td>\n",
       "      <td>12.795900</td>\n",
       "      <td>4858.560000</td>\n",
       "      <td>10.569524</td>\n",
       "      <td>62.000000</td>\n",
       "      <td>23.000000</td>\n",
       "      <td>6.000000</td>\n",
       "      <td>22.000000</td>\n",
       "      <td>2062.660000</td>\n",
       "      <td>184.000000</td>\n",
       "      <td>69.00000</td>\n",
       "      <td>71.000000</td>\n",
       "      <td>12.000000</td>\n",
       "      <td>689.000000</td>\n",
       "      <td>2.000000</td>\n",
       "      <td>42.000000</td>\n",
       "    </tr>\n",
       "  </tbody>\n",
       "</table>\n",
       "</div>"
      ],
      "text/plain": [
       "       interaction_group_score    ACT_VALUE  drug_avr_mass  \\\n",
       "count              2342.000000  2177.000000    2419.000000   \n",
       "mean                  1.767340     7.192664     389.598176   \n",
       "std                  10.612221     1.463173     283.746781   \n",
       "min                   0.000000     2.221800      46.068400   \n",
       "25%                   0.070000     6.154900     281.352300   \n",
       "50%                   0.220000     7.250914     344.404900   \n",
       "75%                   0.790000     8.292430     428.562200   \n",
       "max                 312.430000    12.795900    4858.560000   \n",
       "\n",
       "       drug_predicted_logp  drug_nr_targets  drug_nr_enzymes  \\\n",
       "count          2410.000000      2421.000000      2421.000000   \n",
       "mean              2.768982         8.111111         3.105328   \n",
       "std               2.420060         8.561279         3.447969   \n",
       "min             -33.103356         0.000000         0.000000   \n",
       "25%               1.778753         2.000000         1.000000   \n",
       "50%               3.221353         5.000000         2.000000   \n",
       "75%               4.197729        11.000000         5.000000   \n",
       "max              10.569524        62.000000        23.000000   \n",
       "\n",
       "       drug_nr_carriers  drug_nr_transporters  POLAR_SURFACE_AREA  \\\n",
       "count       2421.000000           2421.000000         2421.000000   \n",
       "mean           0.436183              1.352747           76.082454   \n",
       "std            0.764229              2.330072          120.572539   \n",
       "min            0.000000              0.000000            0.000000   \n",
       "25%            0.000000              0.000000           36.260000   \n",
       "50%            0.000000              1.000000           58.100000   \n",
       "75%            1.000000              2.000000           88.910000   \n",
       "max            6.000000             22.000000         2062.660000   \n",
       "\n",
       "       ROTATABLE_BOND_COUNT  HYDROGEN_BOND_DONORS  HYDROGEN_BOND_ACCEPTORS  \\\n",
       "count           2421.000000            2421.00000              2421.000000   \n",
       "mean               5.552664               1.86741                 4.749690   \n",
       "std                9.208479               4.05104                 4.280086   \n",
       "min                0.000000               0.00000                 0.000000   \n",
       "25%                3.000000               1.00000                 3.000000   \n",
       "50%                4.000000               1.00000                 4.000000   \n",
       "75%                7.000000               2.00000                 6.000000   \n",
       "max              184.000000              69.00000                71.000000   \n",
       "\n",
       "        RING_COUNT   ATOM_COUNT  FORMAL_CHARGE  CHIRAL_CENTER_COUNT  \n",
       "count  2421.000000  2421.000000    2421.000000          2421.000000  \n",
       "mean      3.368856    52.790169       0.026435             1.684841  \n",
       "std       1.581349    38.385299       0.184422             3.266568  \n",
       "min       0.000000     8.000000       0.000000             0.000000  \n",
       "25%       2.000000    40.000000       0.000000             0.000000  \n",
       "50%       3.000000    48.000000       0.000000             0.000000  \n",
       "75%       4.000000    57.000000       0.000000             2.000000  \n",
       "max      12.000000   689.000000       2.000000            42.000000  "
      ]
     },
     "execution_count": 25,
     "metadata": {},
     "output_type": "execute_result"
    }
   ],
   "source": [
    "import pandas as pd\n",
    "import numpy as np\n",
    "import seaborn as sns\n",
    "\n",
    "df = pd.read_csv('C:/Elod/MSc_Onlab/drug_dataset.csv')\n",
    "df.describe()"
   ]
  },
  {
   "cell_type": "code",
   "execution_count": 26,
   "metadata": {},
   "outputs": [
    {
     "data": {
      "text/plain": [
       "<AxesSubplot:>"
      ]
     },
     "execution_count": 26,
     "metadata": {},
     "output_type": "execute_result"
    },
    {
     "data": {
      "image/png": "[encoded data removed]",
      "text/plain": [
       "<Figure size 432x288 with 1 Axes>"
      ]
     },
     "metadata": {
      "needs_background": "light"
     },
     "output_type": "display_data"
    }
   ],
   "source": [
    "df.boxplot(column=['POLAR_SURFACE_AREA'], return_type='axes')"
   ]
  },
  {
   "cell_type": "code",
   "execution_count": 27,
   "metadata": {},
   "outputs": [
    {
     "data": {
      "text/plain": [
       "<AxesSubplot:xlabel='POLAR_SURFACE_AREA', ylabel='drug_avr_mass'>"
      ]
     },
     "execution_count": 27,
     "metadata": {},
     "output_type": "execute_result"
    },
    {
     "data": {
      "image/png": "[encoded data removed]",
      "text/plain": [
       "<Figure size 432x288 with 1 Axes>"
      ]
     },
     "metadata": {
      "needs_background": "light"
     },
     "output_type": "display_data"
    }
   ],
   "source": [
    "df.plot(kind='scatter', x='POLAR_SURFACE_AREA', y='drug_avr_mass', alpha=0.5)"
   ]
  },
  {
   "cell_type": "markdown",
   "metadata": {},
   "source": [
    "Látszik, hogy a két változó lineáris összefüggésben van egymással, van talán 1 kiugró érték ami ebből a linearitásba nem illik."
   ]
  },
  {
   "cell_type": "code",
   "execution_count": 28,
   "metadata": {},
   "outputs": [
    {
     "data": {
      "text/html": [
       "<div>\n",
       "<style scoped>\n",
       "    .dataframe tbody tr th:only-of-type {\n",
       "        vertical-align: middle;\n",
       "    }\n",
       "\n",
       "    .dataframe tbody tr th {\n",
       "        vertical-align: top;\n",
       "    }\n",
       "\n",
       "    .dataframe thead th {\n",
       "        text-align: right;\n",
       "    }\n",
       "</style>\n",
       "<table border=\"1\" class=\"dataframe\">\n",
       "  <thead>\n",
       "    <tr style=\"text-align: right;\">\n",
       "      <th></th>\n",
       "      <th>gene_name</th>\n",
       "      <th>interaction_types</th>\n",
       "      <th>drug_claim_primary_name</th>\n",
       "      <th>interaction_group_score</th>\n",
       "      <th>TARGET_NAME</th>\n",
       "      <th>TARGET_CLASS</th>\n",
       "      <th>ACT_VALUE</th>\n",
       "      <th>drug_approved</th>\n",
       "      <th>drug_avr_mass</th>\n",
       "      <th>drug_predicted_logp</th>\n",
       "      <th>...</th>\n",
       "      <th>drug_nr_carriers</th>\n",
       "      <th>drug_nr_transporters</th>\n",
       "      <th>POLAR_SURFACE_AREA</th>\n",
       "      <th>ROTATABLE_BOND_COUNT</th>\n",
       "      <th>HYDROGEN_BOND_DONORS</th>\n",
       "      <th>HYDROGEN_BOND_ACCEPTORS</th>\n",
       "      <th>RING_COUNT</th>\n",
       "      <th>ATOM_COUNT</th>\n",
       "      <th>FORMAL_CHARGE</th>\n",
       "      <th>CHIRAL_CENTER_COUNT</th>\n",
       "    </tr>\n",
       "  </thead>\n",
       "  <tbody>\n",
       "    <tr>\n",
       "      <th>747</th>\n",
       "      <td>AVPR2</td>\n",
       "      <td>agonist</td>\n",
       "      <td>vasopressin</td>\n",
       "      <td>1.36</td>\n",
       "      <td>Vasopressin V2 receptor</td>\n",
       "      <td>GPCR</td>\n",
       "      <td>8.48</td>\n",
       "      <td>True</td>\n",
       "      <td>2140.46</td>\n",
       "      <td>-7.249322</td>\n",
       "      <td>...</td>\n",
       "      <td>0</td>\n",
       "      <td>1</td>\n",
       "      <td>463.93</td>\n",
       "      <td>19</td>\n",
       "      <td>14</td>\n",
       "      <td>16</td>\n",
       "      <td>4</td>\n",
       "      <td>140</td>\n",
       "      <td>0</td>\n",
       "      <td>8.0</td>\n",
       "    </tr>\n",
       "    <tr>\n",
       "      <th>748</th>\n",
       "      <td>OXTR</td>\n",
       "      <td>agonist</td>\n",
       "      <td>vasopressin</td>\n",
       "      <td>0.18</td>\n",
       "      <td>Oxytocin receptor</td>\n",
       "      <td>GPCR</td>\n",
       "      <td>8.78</td>\n",
       "      <td>True</td>\n",
       "      <td>2140.46</td>\n",
       "      <td>-7.249322</td>\n",
       "      <td>...</td>\n",
       "      <td>0</td>\n",
       "      <td>1</td>\n",
       "      <td>463.93</td>\n",
       "      <td>19</td>\n",
       "      <td>14</td>\n",
       "      <td>16</td>\n",
       "      <td>4</td>\n",
       "      <td>140</td>\n",
       "      <td>0</td>\n",
       "      <td>8.0</td>\n",
       "    </tr>\n",
       "  </tbody>\n",
       "</table>\n",
       "<p>2 rows × 23 columns</p>\n",
       "</div>"
      ],
      "text/plain": [
       "    gene_name interaction_types drug_claim_primary_name  \\\n",
       "747     AVPR2           agonist             vasopressin   \n",
       "748      OXTR           agonist             vasopressin   \n",
       "\n",
       "     interaction_group_score              TARGET_NAME TARGET_CLASS  ACT_VALUE  \\\n",
       "747                     1.36  Vasopressin V2 receptor         GPCR       8.48   \n",
       "748                     0.18        Oxytocin receptor         GPCR       8.78   \n",
       "\n",
       "     drug_approved  drug_avr_mass  drug_predicted_logp  ...  drug_nr_carriers  \\\n",
       "747           True        2140.46            -7.249322  ...                 0   \n",
       "748           True        2140.46            -7.249322  ...                 0   \n",
       "\n",
       "     drug_nr_transporters  POLAR_SURFACE_AREA  ROTATABLE_BOND_COUNT  \\\n",
       "747                     1              463.93                    19   \n",
       "748                     1              463.93                    19   \n",
       "\n",
       "     HYDROGEN_BOND_DONORS  HYDROGEN_BOND_ACCEPTORS  RING_COUNT  ATOM_COUNT  \\\n",
       "747                    14                       16           4         140   \n",
       "748                    14                       16           4         140   \n",
       "\n",
       "     FORMAL_CHARGE  CHIRAL_CENTER_COUNT  \n",
       "747              0                  8.0  \n",
       "748              0                  8.0  \n",
       "\n",
       "[2 rows x 23 columns]"
      ]
     },
     "execution_count": 28,
     "metadata": {},
     "output_type": "execute_result"
    }
   ],
   "source": [
    "df.loc[(df['POLAR_SURFACE_AREA'] < 500) & (df['drug_avr_mass'] > 2000)]"
   ]
  },
  {
   "cell_type": "markdown",
   "metadata": {},
   "source": [
    "Ez a vasopressin"
   ]
  },
  {
   "cell_type": "code",
   "execution_count": 29,
   "metadata": {},
   "outputs": [
    {
     "data": {
      "text/plain": [
       "<AxesSubplot:>"
      ]
     },
     "execution_count": 29,
     "metadata": {},
     "output_type": "execute_result"
    },
    {
     "data": {
      "image/png": "[encoded data removed]",
      "text/plain": [
       "<Figure size 432x288 with 1 Axes>"
      ]
     },
     "metadata": {
      "needs_background": "light"
     },
     "output_type": "display_data"
    }
   ],
   "source": [
    "df.boxplot(column=['ROTATABLE_BOND_COUNT'], return_type='axes')"
   ]
  },
  {
   "cell_type": "code",
   "execution_count": 30,
   "metadata": {},
   "outputs": [
    {
     "data": {
      "text/plain": [
       "<AxesSubplot:xlabel='temp', ylabel='ROTATABLE_BOND_COUNT'>"
      ]
     },
     "execution_count": 30,
     "metadata": {},
     "output_type": "execute_result"
    },
    {
     "data": {
      "image/png": "[encoded data removed]",
      "text/plain": [
       "<Figure size 432x288 with 1 Axes>"
      ]
     },
     "metadata": {
      "needs_background": "light"
     },
     "output_type": "display_data"
    }
   ],
   "source": [
    "df_sorted = df.sort_values(by=['ROTATABLE_BOND_COUNT'])\n",
    "df_sorted['temp'] = 1\n",
    "df_sorted.plot(kind=\"scatter\", x='temp', y='ROTATABLE_BOND_COUNT', alpha=0.6)"
   ]
  },
  {
   "cell_type": "markdown",
   "metadata": {},
   "source": [
    "Ha nagyobb mint 50, kaphatna 50-et"
   ]
  },
  {
   "cell_type": "code",
   "execution_count": 31,
   "metadata": {},
   "outputs": [
    {
     "data": {
      "text/plain": [
       "<AxesSubplot:xlabel='interaction_group_score', ylabel='ROTATABLE_BOND_COUNT'>"
      ]
     },
     "execution_count": 31,
     "metadata": {},
     "output_type": "execute_result"
    },
    {
     "data": {
      "image/png": "[encoded data removed]",
      "text/plain": [
       "<Figure size 432x288 with 1 Axes>"
      ]
     },
     "metadata": {
      "needs_background": "light"
     },
     "output_type": "display_data"
    }
   ],
   "source": [
    "df.plot(kind='scatter', x='interaction_group_score', y='ROTATABLE_BOND_COUNT', alpha=0.5)"
   ]
  },
  {
   "cell_type": "markdown",
   "metadata": {},
   "source": [
    "Itt szintén 2 outlier, de a 2 változót tekintve"
   ]
  },
  {
   "cell_type": "code",
   "execution_count": 32,
   "metadata": {},
   "outputs": [
    {
     "data": {
      "text/plain": [
       "<AxesSubplot:>"
      ]
     },
     "execution_count": 32,
     "metadata": {},
     "output_type": "execute_result"
    },
    {
     "data": {
      "image/png": "[encoded data removed]",
      "text/plain": [
       "<Figure size 432x288 with 1 Axes>"
      ]
     },
     "metadata": {
      "needs_background": "light"
     },
     "output_type": "display_data"
    }
   ],
   "source": [
    "df.boxplot(column=['HYDROGEN_BOND_DONORS'], return_type='axes')"
   ]
  },
  {
   "cell_type": "code",
   "execution_count": 33,
   "metadata": {},
   "outputs": [
    {
     "data": {
      "text/plain": [
       "<AxesSubplot:xlabel='HYDROGEN_BOND_DONORS', ylabel='HYDROGEN_BOND_ACCEPTORS'>"
      ]
     },
     "execution_count": 33,
     "metadata": {},
     "output_type": "execute_result"
    },
    {
     "data": {
      "image/png": "[encoded data removed]",
      "text/plain": [
       "<Figure size 432x288 with 1 Axes>"
      ]
     },
     "metadata": {
      "needs_background": "light"
     },
     "output_type": "display_data"
    }
   ],
   "source": [
    "df.plot(kind='scatter', x='HYDROGEN_BOND_DONORS', y='HYDROGEN_BOND_ACCEPTORS', alpha=0.5)"
   ]
  },
  {
   "cell_type": "code",
   "execution_count": 34,
   "metadata": {},
   "outputs": [
    {
     "data": {
      "text/plain": [
       "<AxesSubplot:>"
      ]
     },
     "execution_count": 34,
     "metadata": {},
     "output_type": "execute_result"
    },
    {
     "data": {
      "image/png": "[encoded data removed]",
      "text/plain": [
       "<Figure size 648x432 with 2 Axes>"
      ]
     },
     "metadata": {
      "needs_background": "light"
     },
     "output_type": "display_data"
    }
   ],
   "source": [
    "import matplotlib.pyplot as plt\n",
    "\n",
    "plt.figure(figsize = (9,6))\n",
    "sns.heatmap(df.corr(), cmap=\"coolwarm\")"
   ]
  },
  {
   "cell_type": "code",
   "execution_count": 35,
   "metadata": {},
   "outputs": [
    {
     "name": "stderr",
     "output_type": "stream",
     "text": [
      "c:\\users\\kiss előd\\appdata\\local\\programs\\python\\python38-32\\lib\\site-packages\\seaborn\\distributions.py:2557: FutureWarning: `distplot` is a deprecated function and will be removed in a future version. Please adapt your code to use either `displot` (a figure-level function with similar flexibility) or `histplot` (an axes-level function for histograms).\n",
      "  warnings.warn(msg, FutureWarning)\n",
      "c:\\users\\kiss előd\\appdata\\local\\programs\\python\\python38-32\\lib\\site-packages\\seaborn\\distributions.py:2557: FutureWarning: `distplot` is a deprecated function and will be removed in a future version. Please adapt your code to use either `displot` (a figure-level function with similar flexibility) or `histplot` (an axes-level function for histograms).\n",
      "  warnings.warn(msg, FutureWarning)\n"
     ]
    },
    {
     "data": {
      "image/png": "[encoded data removed]",
      "text/plain": [
       "<Figure size 432x288 with 1 Axes>"
      ]
     },
     "metadata": {
      "needs_background": "light"
     },
     "output_type": "display_data"
    }
   ],
   "source": [
    "sns.distplot(df[df[\"TARGET_CLASS\"] == \"GPCR\"][\"ATOM_COUNT\"], label=\"GPCR\")\n",
    "sns.distplot(df[df[\"TARGET_CLASS\"] == \"DNA\"][\"ATOM_COUNT\"], label=\"DNA\")\n",
    "plt.legend()\n",
    "plt.show()"
   ]
  },
  {
   "cell_type": "code",
   "execution_count": 36,
   "metadata": {},
   "outputs": [
    {
     "data": {
      "text/plain": [
       "<AxesSubplot:xlabel='interaction_group_score', ylabel='drug_predicted_logp'>"
      ]
     },
     "execution_count": 36,
     "metadata": {},
     "output_type": "execute_result"
    },
    {
     "data": {
      "image/png": "[encoded data removed]",
      "text/plain": [
       "<Figure size 432x288 with 1 Axes>"
      ]
     },
     "metadata": {
      "needs_background": "light"
     },
     "output_type": "display_data"
    },
    {
     "data": {
      "image/png": "[encoded data removed]",
      "text/plain": [
       "<Figure size 432x288 with 1 Axes>"
      ]
     },
     "metadata": {
      "needs_background": "light"
     },
     "output_type": "display_data"
    }
   ],
   "source": [
    "df[df[\"TARGET_CLASS\"] == \"GPCR\"].plot(kind='scatter', x='interaction_group_score', y='drug_predicted_logp', alpha=0.5, label='GPCR')\n",
    "df[df[\"TARGET_CLASS\"] == \"DNA\"].plot(kind='scatter', x='interaction_group_score', y='drug_predicted_logp', alpha=1, label='DNA')"
   ]
  },
  {
   "cell_type": "code",
   "execution_count": 37,
   "metadata": {},
   "outputs": [
    {
     "data": {
      "text/plain": [
       "<AxesSubplot:xlabel='POLAR_SURFACE_AREA', ylabel='HYDROGEN_BOND_ACCEPTORS'>"
      ]
     },
     "execution_count": 37,
     "metadata": {},
     "output_type": "execute_result"
    },
    {
     "data": {
      "image/png": "[encoded data removed]",
      "text/plain": [
       "<Figure size 432x288 with 1 Axes>"
      ]
     },
     "metadata": {
      "needs_background": "light"
     },
     "output_type": "display_data"
    }
   ],
   "source": [
    "df.plot(kind='scatter', x='POLAR_SURFACE_AREA', y='HYDROGEN_BOND_ACCEPTORS', alpha=0.4)"
   ]
  },
  {
   "cell_type": "code",
   "execution_count": 40,
   "metadata": {},
   "outputs": [
    {
     "data": {
      "text/plain": [
       "(0.0, 100.0)"
      ]
     },
     "execution_count": 40,
     "metadata": {},
     "output_type": "execute_result"
    },
    {
     "data": {
      "image/png": "[encoded data removed]",
      "text/plain": [
       "<Figure size 432x288 with 1 Axes>"
      ]
     },
     "metadata": {
      "needs_background": "light"
     },
     "output_type": "display_data"
    }
   ],
   "source": [
    "df.plot(kind='scatter', x='POLAR_SURFACE_AREA', y='HYDROGEN_BOND_ACCEPTORS', alpha=0.3)\n",
    "plt.ylim(0,10)\n",
    "plt.xlim(0,100)"
   ]
  },
  {
   "cell_type": "code",
   "execution_count": 39,
   "metadata": {},
   "outputs": [
    {
     "data": {
      "text/plain": [
       "<AxesSubplot:xlabel='ATOM_COUNT', ylabel='HYDROGEN_BOND_DONORS'>"
      ]
     },
     "execution_count": 39,
     "metadata": {},
     "output_type": "execute_result"
    },
    {
     "data": {
      "image/png": "[encoded data removed]",
      "text/plain": [
       "<Figure size 432x288 with 1 Axes>"
      ]
     },
     "metadata": {
      "needs_background": "light"
     },
     "output_type": "display_data"
    }
   ],
   "source": [
    "df.plot(kind='scatter', x='ATOM_COUNT', y='HYDROGEN_BOND_DONORS', alpha=0.4)"
   ]
  },
  {
   "cell_type": "code",
   "execution_count": null,
   "metadata": {},
   "outputs": [],
   "source": []
  }
 ],
 "metadata": {
  "kernelspec": {
   "display_name": "Python 3",
   "language": "python",
   "name": "python3"
  },
  "language_info": {
   "codemirror_mode": {
    "name": "ipython",
    "version": 3
   },
   "file_extension": ".py",
   "mimetype": "text/x-python",
   "name": "python",
   "nbconvert_exporter": "python",
   "pygments_lexer": "ipython3",
   "version": "3.8.3"
  }
 },
 "nbformat": 4,
 "nbformat_minor": 4
}
